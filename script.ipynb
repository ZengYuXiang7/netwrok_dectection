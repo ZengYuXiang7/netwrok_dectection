{
 "cells": [
  {
   "metadata": {
    "ExecuteTime": {
     "end_time": "2025-01-29T05:31:17.469048Z",
     "start_time": "2025-01-29T05:31:17.433028Z"
    }
   },
   "cell_type": "code",
   "source": [
    "import pickle\n",
    "import os\n",
    "import time\n",
    "\n",
    "from docutils.nodes import container\n",
    "\n",
    "df = pickle.load(open(os.path.join('./datasets/flow/Medboit_all_seq_30_2.pickle'), 'rb'))\n",
    "df.shape"
   ],
   "id": "e56b2ec0927d7be7",
   "outputs": [
    {
     "ename": "FileNotFoundError",
     "evalue": "[Errno 2] No such file or directory: './datasets/flow/Medboit_all_seq_30_2.pickle'",
     "output_type": "error",
     "traceback": [
      "\u001B[0;31m---------------------------------------------------------------------------\u001B[0m",
      "\u001B[0;31mFileNotFoundError\u001B[0m                         Traceback (most recent call last)",
      "Cell \u001B[0;32mIn[92], line 6\u001B[0m\n\u001B[1;32m      2\u001B[0m \u001B[38;5;28;01mimport\u001B[39;00m \u001B[38;5;21;01mos\u001B[39;00m\n\u001B[1;32m      4\u001B[0m \u001B[38;5;28;01mfrom\u001B[39;00m \u001B[38;5;21;01mdocutils\u001B[39;00m\u001B[38;5;21;01m.\u001B[39;00m\u001B[38;5;21;01mnodes\u001B[39;00m \u001B[38;5;28;01mimport\u001B[39;00m container\n\u001B[0;32m----> 6\u001B[0m df \u001B[38;5;241m=\u001B[39m pickle\u001B[38;5;241m.\u001B[39mload(\u001B[38;5;28mopen\u001B[39m(os\u001B[38;5;241m.\u001B[39mpath\u001B[38;5;241m.\u001B[39mjoin(\u001B[38;5;124m'\u001B[39m\u001B[38;5;124m./datasets/flow/Medboit_all_seq_30_2.pickle\u001B[39m\u001B[38;5;124m'\u001B[39m), \u001B[38;5;124m'\u001B[39m\u001B[38;5;124mrb\u001B[39m\u001B[38;5;124m'\u001B[39m))\n\u001B[1;32m      7\u001B[0m df\u001B[38;5;241m.\u001B[39mshape\n",
      "File \u001B[0;32m~/anaconda3/lib/python3.12/site-packages/IPython/core/interactiveshell.py:324\u001B[0m, in \u001B[0;36m_modified_open\u001B[0;34m(file, *args, **kwargs)\u001B[0m\n\u001B[1;32m    317\u001B[0m \u001B[38;5;28;01mif\u001B[39;00m file \u001B[38;5;129;01min\u001B[39;00m {\u001B[38;5;241m0\u001B[39m, \u001B[38;5;241m1\u001B[39m, \u001B[38;5;241m2\u001B[39m}:\n\u001B[1;32m    318\u001B[0m     \u001B[38;5;28;01mraise\u001B[39;00m \u001B[38;5;167;01mValueError\u001B[39;00m(\n\u001B[1;32m    319\u001B[0m         \u001B[38;5;124mf\u001B[39m\u001B[38;5;124m\"\u001B[39m\u001B[38;5;124mIPython won\u001B[39m\u001B[38;5;124m'\u001B[39m\u001B[38;5;124mt let you open fd=\u001B[39m\u001B[38;5;132;01m{\u001B[39;00mfile\u001B[38;5;132;01m}\u001B[39;00m\u001B[38;5;124m by default \u001B[39m\u001B[38;5;124m\"\u001B[39m\n\u001B[1;32m    320\u001B[0m         \u001B[38;5;124m\"\u001B[39m\u001B[38;5;124mas it is likely to crash IPython. If you know what you are doing, \u001B[39m\u001B[38;5;124m\"\u001B[39m\n\u001B[1;32m    321\u001B[0m         \u001B[38;5;124m\"\u001B[39m\u001B[38;5;124myou can use builtins\u001B[39m\u001B[38;5;124m'\u001B[39m\u001B[38;5;124m open.\u001B[39m\u001B[38;5;124m\"\u001B[39m\n\u001B[1;32m    322\u001B[0m     )\n\u001B[0;32m--> 324\u001B[0m \u001B[38;5;28;01mreturn\u001B[39;00m io_open(file, \u001B[38;5;241m*\u001B[39margs, \u001B[38;5;241m*\u001B[39m\u001B[38;5;241m*\u001B[39mkwargs)\n",
      "\u001B[0;31mFileNotFoundError\u001B[0m: [Errno 2] No such file or directory: './datasets/flow/Medboit_all_seq_30_2.pickle'"
     ]
    }
   ],
   "execution_count": 92
  },
  {
   "metadata": {
    "ExecuteTime": {
     "end_time": "2025-01-29T05:31:17.508753708Z",
     "start_time": "2025-01-28T15:31:22.092033Z"
    }
   },
   "cell_type": "code",
   "source": "",
   "id": "c5560c38686bf253",
   "outputs": [],
   "execution_count": 50
  },
  {
   "metadata": {
    "ExecuteTime": {
     "end_time": "2025-01-29T05:31:17.509098019Z",
     "start_time": "2025-01-28T15:31:22.317935Z"
    }
   },
   "cell_type": "code",
   "source": "",
   "id": "17fb65f54a1bb04c",
   "outputs": [
    {
     "name": "stdout",
     "output_type": "stream",
     "text": [
      "./datasets/pcap/USTC-TFC2016/Benign/MySQL.pcap 0\n",
      "./datasets/pcap/USTC-TFC2016/Benign/FTP.pcap 1\n",
      "./datasets/pcap/USTC-TFC2016/Benign/BitTorrent.pcap 2\n",
      "./datasets/pcap/USTC-TFC2016/Benign/Skype.pcap 3\n",
      "./datasets/pcap/USTC-TFC2016/Benign/Gmail.pcap 4\n",
      "./datasets/pcap/USTC-TFC2016/Benign/Facetime.pcap 5\n",
      "./datasets/pcap/USTC-TFC2016/Benign/Outlook.pcap 6\n",
      "./datasets/pcap/USTC-TFC2016/Benign/WorldOfWarcraft.pcap 7\n",
      "./datasets/pcap/USTC-TFC2016/Benign/Weibo/Weibo-4.pcap 8\n",
      "./datasets/pcap/USTC-TFC2016/Benign/Weibo/Weibo-1.pcap 8\n",
      "./datasets/pcap/USTC-TFC2016/Benign/Weibo/Weibo-3.pcap 8\n",
      "./datasets/pcap/USTC-TFC2016/Benign/Weibo/Weibo-2.pcap 8\n",
      "./datasets/pcap/USTC-TFC2016/Benign/SMB/SMB-2.pcap 9\n",
      "./datasets/pcap/USTC-TFC2016/Benign/SMB/SMB-1.pcap 9\n",
      "./datasets/pcap/USTC-TFC2016/Malware/Geodo.pcap 10\n",
      "./datasets/pcap/USTC-TFC2016/Malware/Cridex.pcap 11\n",
      "./datasets/pcap/USTC-TFC2016/Malware/Miuref.pcap 12\n",
      "./datasets/pcap/USTC-TFC2016/Malware/Virut.pcap 13\n",
      "./datasets/pcap/USTC-TFC2016/Malware/Neris.pcap 14\n",
      "./datasets/pcap/USTC-TFC2016/Malware/Zeus.pcap 15\n",
      "./datasets/pcap/USTC-TFC2016/Malware/Shifu.pcap 16\n",
      "./datasets/pcap/USTC-TFC2016/Malware/Nsis-ay.pcap 17\n",
      "./datasets/pcap/USTC-TFC2016/Malware/Htbot.pcap 18\n",
      "./datasets/pcap/USTC-TFC2016/Malware/Tinba.pcap 19\n"
     ]
    }
   ],
   "execution_count": 51
  },
  {
   "metadata": {
    "ExecuteTime": {
     "end_time": "2025-01-29T05:48:30.874145Z",
     "start_time": "2025-01-29T05:48:30.872341Z"
    }
   },
   "cell_type": "code",
   "source": [
    "def get_iot():\n",
    "    all_address, all_label = [], []\n",
    "    add = os.listdir(f'./datasets/pcap/IoT')\n",
    "    for i in range(len(add)):\n",
    "        all_address.append('./datasets/pcap/IoT/' + add[i])\n",
    "        all_label.append(i)\n",
    "    return all_address, all_label"
   ],
   "id": "a491845fc1980c40",
   "outputs": [],
   "execution_count": 3
  },
  {
   "metadata": {
    "ExecuteTime": {
     "end_time": "2025-01-29T05:48:31.740545Z",
     "start_time": "2025-01-29T05:48:31.738618Z"
    }
   },
   "cell_type": "code",
   "source": "all_address, all_label = get_iot()",
   "id": "7168b6c3b34bb040",
   "outputs": [],
   "execution_count": 4
  },
  {
   "metadata": {
    "ExecuteTime": {
     "end_time": "2025-01-29T05:31:17.509238796Z",
     "start_time": "2025-01-28T15:39:12.937244Z"
    }
   },
   "cell_type": "code",
   "source": [
    "def get_iot():\n",
    "    all_address, all_label = [], []\n",
    "    add = os.listdir(f'./datasets/pcap/IoT')\n",
    "    for i in range(len(add)):\n",
    "        all_address.append('./datasets/pcap/IoT/' + add[i])\n",
    "        all_label.append(i)\n",
    "    return all_address, all_label"
   ],
   "id": "19b0eee90e73f223",
   "outputs": [
    {
     "data": {
      "text/plain": [
       "[0, 1, 2, 3, 4, 5, 6, 7, 8, 9, 10, 11, 12, 13, 14, 15, 16, 17, 18, 19, 20]"
      ]
     },
     "execution_count": 60,
     "metadata": {},
     "output_type": "execute_result"
    }
   ],
   "execution_count": 60
  },
  {
   "metadata": {
    "ExecuteTime": {
     "end_time": "2025-01-29T06:10:31.125289Z",
     "start_time": "2025-01-29T06:09:53.510750Z"
    }
   },
   "cell_type": "code",
   "source": [
    "import os \n",
    "import scapy.all as scapy\n",
    "from flowcontainer.extractor import extract\n",
    "import time \n",
    "all_address = ['./datasets/temp/' + item for item in os.listdir('./datasets/temp')]\n",
    "\n",
    "for i in range(len(all_address)):\n",
    "    print(f\"\\nProcessing: {all_address[i]}\")\n",
    "\n",
    "    # 读取 PCAP 文件\n",
    "    packets = [pkt for pkt in scapy.rdpcap(all_address[i]) if pkt.haslayer(scapy.IP) and (pkt.haslayer(scapy.TCP) or pkt.haslayer(scapy.UDP))]\n",
    "    # 提取每个数据包的长度（scapy）\n",
    "    scapy_lengths = [len(pkt) for pkt in packets]\n",
    "    # 提取流特征（flowcontainer）\n",
    "    feature_result = extract(all_address[i], filter='tcp or udp', extension=['tls.record.content_type', 'tls.record.opaque_type', 'tls.handshake.type'])\n",
    "    # 提取流中的 IP 数据包长度\n",
    "    flow_lengths = []\n",
    "    for key, value in feature_result.items():\n",
    "        flow_lengths.extend(value.ip_lengths)  # 解析所有流的数据包长度\n",
    "    # 输出对比结果\n",
    "    print(f\"Scapy 包数: {len(scapy_lengths)}, Flowcontainer 提取的 IP 包数: {len(flow_lengths)}\")\n",
    "    # 检查长度是否一致\n",
    "    if len(scapy_lengths) == len(flow_lengths):\n",
    "        print(\"✅ 数据包长度数量一致\")\n",
    "    else:\n",
    "        print(\"❌ 数据包长度数量不一致\")\n",
    "    # 详细对比（可选）\n",
    "    print(\"Scapy         :\", scapy_lengths)\n",
    "    print(\"Flowcontainer :\", flow_lengths)\n",
    "    if i > 30:\n",
    "        break\n",
    "    time.sleep(1)"
   ],
   "id": "e0f5ce2f0588a323",
   "outputs": [
    {
     "name": "stdout",
     "output_type": "stream",
     "text": [
      "\n",
      "Processing: ./datasets/temp/Cridex.pcap.Seconds_198430.pcap\n",
      "Scapy 包数: 2, Flowcontainer 提取的 IP 包数: 0\n",
      "❌ 数据包长度数量不一致\n",
      "Scapy         : [66, 62]\n",
      "Flowcontainer : []\n",
      "\n",
      "Processing: ./datasets/temp/Cridex.pcap.Seconds_687020.pcap\n",
      "Scapy 包数: 13, Flowcontainer 提取的 IP 包数: 12\n",
      "❌ 数据包长度数量不一致\n",
      "Scapy         : [66, 58, 54, 343, 54, 628, 54, 1338, 54, 54, 54, 54, 66]\n",
      "Flowcontainer : [52, -44, 40, 329, -40, 614, -40, -1324, 40, -40, -40, 40]\n",
      "\n",
      "Processing: ./datasets/temp/Cridex.pcap.Seconds_600650.pcap\n",
      "Scapy 包数: 2, Flowcontainer 提取的 IP 包数: 1\n",
      "❌ 数据包长度数量不一致\n",
      "Scapy         : [66, 62]\n",
      "Flowcontainer : [-92]\n",
      "\n",
      "Processing: ./datasets/temp/Cridex.pcap.Seconds_666590.pcap\n",
      "Scapy 包数: 14, Flowcontainer 提取的 IP 包数: 12\n",
      "❌ 数据包长度数量不一致\n",
      "Scapy         : [66, 58, 54, 357, 54, 628, 54, 1368, 54, 54, 54, 54, 66, 66]\n",
      "Flowcontainer : [52, -44, 40, 343, -40, 614, -40, -1354, 40, -40, -40, 40]\n",
      "\n",
      "Processing: ./datasets/temp/Cridex.pcap.Seconds_109950.pcap\n",
      "Scapy 包数: 13, Flowcontainer 提取的 IP 包数: 13\n",
      "✅ 数据包长度数量一致\n",
      "Scapy         : [66, 58, 54, 349, 54, 628, 54, 1344, 54, 54, 54, 54, 66]\n",
      "Flowcontainer : [52, -44, 40, 335, -40, 614, -40, -1330, 40, -40, -40, 40, -92]\n",
      "\n",
      "Processing: ./datasets/temp/Cridex.pcap.Seconds_449070.pcap\n",
      "Scapy 包数: 1, Flowcontainer 提取的 IP 包数: 0\n",
      "❌ 数据包长度数量不一致\n",
      "Scapy         : [62]\n",
      "Flowcontainer : []\n",
      "\n",
      "Processing: ./datasets/temp/Cridex.pcap.Seconds_174320.pcap\n",
      "Scapy 包数: 14, Flowcontainer 提取的 IP 包数: 12\n",
      "❌ 数据包长度数量不一致\n",
      "Scapy         : [66, 58, 54, 372, 54, 628, 54, 1425, 54, 54, 54, 54, 66, 66]\n",
      "Flowcontainer : [52, -44, 40, 358, -40, 614, -40, -1411, 40, -40, -40, 40]\n",
      "\n",
      "Processing: ./datasets/temp/Cridex.pcap.Seconds_559460.pcap\n",
      "Scapy 包数: 2, Flowcontainer 提取的 IP 包数: 0\n",
      "❌ 数据包长度数量不一致\n",
      "Scapy         : [66, 62]\n",
      "Flowcontainer : []\n",
      "\n",
      "Processing: ./datasets/temp/Cridex.pcap.Seconds_331140.pcap\n",
      "Scapy 包数: 0, Flowcontainer 提取的 IP 包数: 4\n",
      "❌ 数据包长度数量不一致\n",
      "Scapy         : []\n",
      "Flowcontainer : [-92, -92, -92, -92]\n",
      "\n",
      "Processing: ./datasets/temp/Cridex.pcap.Seconds_287510.pcap\n",
      "Scapy 包数: 14, Flowcontainer 提取的 IP 包数: 12\n",
      "❌ 数据包长度数量不一致\n",
      "Scapy         : [66, 58, 54, 357, 54, 628, 54, 1392, 54, 54, 54, 54, 66, 66]\n",
      "Flowcontainer : [52, -44, 40, 343, -40, 614, -40, -1378, 40, -40, -40, 40]\n",
      "\n",
      "Processing: ./datasets/temp/Cridex.pcap.Seconds_41510.pcap\n",
      "Scapy 包数: 13, Flowcontainer 提取的 IP 包数: 12\n",
      "❌ 数据包长度数量不一致\n",
      "Scapy         : [66, 58, 54, 341, 54, 628, 54, 1320, 54, 54, 54, 54, 66]\n",
      "Flowcontainer : [52, -44, 40, 327, -40, 614, -40, -1306, -40, 40, 40, -40]\n",
      "\n",
      "Processing: ./datasets/temp/Cridex.pcap.Seconds_372370.pcap\n",
      "Scapy 包数: 1, Flowcontainer 提取的 IP 包数: 0\n",
      "❌ 数据包长度数量不一致\n",
      "Scapy         : [62]\n",
      "Flowcontainer : []\n",
      "\n",
      "Processing: ./datasets/temp/Cridex.pcap.Seconds_347360.pcap\n",
      "Scapy 包数: 14, Flowcontainer 提取的 IP 包数: 14\n",
      "✅ 数据包长度数量一致\n",
      "Scapy         : [66, 58, 54, 333, 54, 628, 54, 1296, 54, 54, 54, 54, 66, 66]\n",
      "Flowcontainer : [52, -44, 40, 319, -40, 614, -40, -1282, 40, -40, -40, 40, -92, -92]\n",
      "\n",
      "Processing: ./datasets/temp/Cridex.pcap.Seconds_403870.pcap\n",
      "Scapy 包数: 13, Flowcontainer 提取的 IP 包数: 12\n",
      "❌ 数据包长度数量不一致\n",
      "Scapy         : [66, 58, 54, 351, 54, 628, 54, 1362, 54, 54, 54, 54, 66]\n",
      "Flowcontainer : [52, -44, 40, 337, -40, 614, -40, -1348, 40, -40, -40, 40]\n",
      "\n",
      "Processing: ./datasets/temp/Cridex.pcap.Seconds_221530.pcap\n",
      "Scapy 包数: 13, Flowcontainer 提取的 IP 包数: 12\n",
      "❌ 数据包长度数量不一致\n",
      "Scapy         : [66, 58, 54, 331, 54, 628, 54, 1290, 54, 54, 54, 54, 66]\n",
      "Flowcontainer : [52, -44, 40, 317, -40, 614, -40, -1276, 40, -40, -40, 40]\n",
      "\n",
      "Processing: ./datasets/temp/Cridex.pcap.Seconds_538750.pcap\n",
      "Scapy 包数: 1, Flowcontainer 提取的 IP 包数: 0\n",
      "❌ 数据包长度数量不一致\n",
      "Scapy         : [62]\n",
      "Flowcontainer : []\n",
      "\n",
      "Processing: ./datasets/temp/Cridex.pcap.Seconds_461970.pcap\n",
      "Scapy 包数: 14, Flowcontainer 提取的 IP 包数: 12\n",
      "❌ 数据包长度数量不一致\n",
      "Scapy         : [66, 58, 54, 370, 54, 628, 54, 1419, 54, 54, 54, 54, 66, 66]\n",
      "Flowcontainer : [52, -44, 40, 356, -40, 614, -40, -1405, 40, -40, -40, 40]\n",
      "\n",
      "Processing: ./datasets/temp/Cridex.pcap.Seconds_30500.pcap\n",
      "Scapy 包数: 14, Flowcontainer 提取的 IP 包数: 12\n",
      "❌ 数据包长度数量不一致\n",
      "Scapy         : [66, 58, 54, 328, 54, 628, 54, 1281, 54, 54, 54, 54, 66, 66]\n",
      "Flowcontainer : [52, -44, 40, 314, -40, 614, -40, -1267, 40, -40, -40, 40]\n",
      "\n",
      "Processing: ./datasets/temp/Cridex.pcap.Seconds_379800.pcap\n",
      "Scapy 包数: 14, Flowcontainer 提取的 IP 包数: 12\n",
      "❌ 数据包长度数量不一致\n",
      "Scapy         : [66, 58, 54, 363, 54, 628, 54, 1398, 54, 54, 54, 54, 66, 66]\n",
      "Flowcontainer : [52, -44, 40, 349, -40, 614, -40, -1384, 40, -40, -40, 40]\n",
      "\n",
      "Processing: ./datasets/temp/Cridex.pcap.Seconds_294530.pcap\n",
      "Scapy 包数: 1, Flowcontainer 提取的 IP 包数: 0\n",
      "❌ 数据包长度数量不一致\n",
      "Scapy         : [62]\n",
      "Flowcontainer : []\n",
      "\n",
      "Processing: ./datasets/temp/Cridex.pcap.Seconds_213530.pcap\n",
      "Scapy 包数: 14, Flowcontainer 提取的 IP 包数: 12\n",
      "❌ 数据包长度数量不一致\n",
      "Scapy         : [66, 58, 54, 338, 54, 628, 54, 1323, 54, 54, 54, 54, 66, 66]\n",
      "Flowcontainer : [52, -44, 40, 324, -40, 614, -40, -1309, 40, -40, -40, 40]\n",
      "\n",
      "Processing: ./datasets/temp/Cridex.pcap.Seconds_693770.pcap\n",
      "Scapy 包数: 0, Flowcontainer 提取的 IP 包数: 1\n",
      "❌ 数据包长度数量不一致\n",
      "Scapy         : []\n",
      "Flowcontainer : [-92]\n",
      "\n",
      "Processing: ./datasets/temp/Cridex.pcap.Seconds_551970.pcap\n",
      "Scapy 包数: 2, Flowcontainer 提取的 IP 包数: 1\n",
      "❌ 数据包长度数量不一致\n",
      "Scapy         : [66, 62]\n",
      "Flowcontainer : [-92]\n",
      "\n",
      "Processing: ./datasets/temp/Cridex.pcap.Seconds_367320.pcap\n",
      "Scapy 包数: 14, Flowcontainer 提取的 IP 包数: 12\n",
      "❌ 数据包长度数量不一致\n",
      "Scapy         : [66, 58, 54, 339, 54, 628, 54, 1338, 54, 54, 54, 54, 66, 66]\n",
      "Flowcontainer : [52, -44, 40, 325, -40, 614, -40, -1324, 40, -40, -40, 40]\n",
      "\n",
      "Processing: ./datasets/temp/Cridex.pcap.Seconds_519250.pcap\n",
      "Scapy 包数: 1, Flowcontainer 提取的 IP 包数: 0\n",
      "❌ 数据包长度数量不一致\n",
      "Scapy         : [62]\n",
      "Flowcontainer : []\n",
      "\n",
      "Processing: ./datasets/temp/Cridex.pcap.Seconds_257340.pcap\n",
      "Scapy 包数: 12, Flowcontainer 提取的 IP 包数: 12\n",
      "✅ 数据包长度数量一致\n",
      "Scapy         : [66, 58, 54, 372, 54, 628, 54, 1425, 54, 54, 54, 54]\n",
      "Flowcontainer : [52, -44, 40, 358, -40, 614, -40, -1411, 40, -40, -40, 40]\n",
      "\n",
      "Processing: ./datasets/temp/Cridex.pcap.Seconds_262020.pcap\n",
      "Scapy 包数: 2, Flowcontainer 提取的 IP 包数: 1\n",
      "❌ 数据包长度数量不一致\n",
      "Scapy         : [66, 62]\n",
      "Flowcontainer : [-92]\n",
      "\n",
      "Processing: ./datasets/temp/Cridex.pcap.Seconds_543570.pcap\n",
      "Scapy 包数: 14, Flowcontainer 提取的 IP 包数: 12\n",
      "❌ 数据包长度数量不一致\n",
      "Scapy         : [66, 58, 54, 355, 54, 628, 54, 1374, 54, 54, 54, 54, 66, 66]\n",
      "Flowcontainer : [52, -44, 40, 341, -40, 614, -40, -1360, 40, -40, -40, 40]\n",
      "\n",
      "Processing: ./datasets/temp/Cridex.pcap.Seconds_125710.pcap\n",
      "Scapy 包数: 5, Flowcontainer 提取的 IP 包数: 0\n",
      "❌ 数据包长度数量不一致\n",
      "Scapy         : [54, 54, 66, 66, 62]\n",
      "Flowcontainer : []\n",
      "\n",
      "Processing: ./datasets/temp/Cridex.pcap.Seconds_409850.pcap\n",
      "Scapy 包数: 7, Flowcontainer 提取的 IP 包数: 5\n",
      "❌ 数据包长度数量不一致\n",
      "Scapy         : [1326, 54, 54, 54, 54, 66, 66]\n",
      "Flowcontainer : [-1312, -40, 40, 40, -40]\n",
      "\n",
      "Processing: ./datasets/temp/Cridex.pcap.Seconds_408160.pcap\n",
      "Scapy 包数: 1, Flowcontainer 提取的 IP 包数: 0\n",
      "❌ 数据包长度数量不一致\n",
      "Scapy         : [62]\n",
      "Flowcontainer : []\n",
      "\n",
      "Processing: ./datasets/temp/Cridex.pcap.Seconds_37410.pcap\n",
      "Scapy 包数: 14, Flowcontainer 提取的 IP 包数: 13\n",
      "❌ 数据包长度数量不一致\n",
      "Scapy         : [66, 58, 54, 336, 54, 628, 54, 1305, 54, 54, 54, 54, 66, 66]\n",
      "Flowcontainer : [52, -44, 40, 322, -40, 614, -40, -1291, -40, 40, 40, -40, -92]\n"
     ]
    }
   ],
   "execution_count": 43
  },
  {
   "metadata": {
    "ExecuteTime": {
     "end_time": "2025-01-29T05:31:17.509412036Z",
     "start_time": "2025-01-29T05:29:59.590375Z"
    }
   },
   "cell_type": "code",
   "source": "# ",
   "id": "ed9594290d598d32",
   "outputs": [],
   "execution_count": null
  },
  {
   "metadata": {
    "ExecuteTime": {
     "end_time": "2025-01-29T06:21:17.868056Z",
     "start_time": "2025-01-29T06:21:17.865980Z"
    }
   },
   "cell_type": "code",
   "source": [
    "import subprocess\n",
    "import os \n",
    "def split_pcap_by_command(dataset, src_address, label):\n",
    "    dst_address = f'./datasets/split_cap/{dataset}/{src_address.split('/')[-1].split('.')[0]}'\n",
    "    cmd = f\"mono SplitCap.exe -r {src_address} -s session -o '{dst_address}'\" \n",
    "    # print(cmd)\n",
    "    # 执行命令\n",
    "    subprocess.run(cmd, shell=True, check=True)\n",
    "    pcap_name = src_address.split('/')[-1].split('.')[0]\n",
    "    x = os.listdir(f'./datasets/split_cap/{dataset}/{pcap_name}')\n",
    "    y = []\n",
    "    for i in range(len(x)):\n",
    "        x[i] = f'./datasets/split_cap/{dataset}/{pcap_name}/' + x[i]\n",
    "        y.append(label)\n",
    "    return x, y"
   ],
   "id": "f5ac1ce02d312b6e",
   "outputs": [],
   "execution_count": 71
  },
  {
   "metadata": {
    "ExecuteTime": {
     "end_time": "2025-01-29T06:57:02.010678Z",
     "start_time": "2025-01-29T06:57:02.009416Z"
    }
   },
   "cell_type": "code",
   "source": "",
   "id": "56c8485f5023486",
   "outputs": [],
   "execution_count": null
  },
  {
   "metadata": {
    "ExecuteTime": {
     "end_time": "2025-01-29T06:57:03.002625Z",
     "start_time": "2025-01-29T06:57:03.001210Z"
    }
   },
   "cell_type": "code",
   "source": "",
   "id": "c13eb6cfcb1a2e99",
   "outputs": [],
   "execution_count": null
  },
  {
   "metadata": {
    "ExecuteTime": {
     "end_time": "2025-01-29T06:57:03.518491Z",
     "start_time": "2025-01-29T06:57:03.516621Z"
    }
   },
   "cell_type": "code",
   "source": "",
   "id": "161b54bea97d0b23",
   "outputs": [],
   "execution_count": null
  },
  {
   "metadata": {
    "ExecuteTime": {
     "end_time": "2025-01-29T06:57:03.720600Z",
     "start_time": "2025-01-29T06:57:03.719236Z"
    }
   },
   "cell_type": "code",
   "source": "",
   "id": "131f4031e0c76049",
   "outputs": [],
   "execution_count": null
  },
  {
   "metadata": {
    "ExecuteTime": {
     "end_time": "2025-01-29T06:57:04.461445Z",
     "start_time": "2025-01-29T06:57:04.459928Z"
    }
   },
   "cell_type": "code",
   "source": "",
   "id": "c44d1f1262b50299",
   "outputs": [],
   "execution_count": null
  },
  {
   "metadata": {
    "ExecuteTime": {
     "end_time": "2025-01-29T06:43:22.916054Z",
     "start_time": "2025-01-29T06:43:08.236612Z"
    }
   },
   "cell_type": "code",
   "source": [
    "for i in range(len(all_x)):\n",
    "    now = all_x[i]\n",
    "    from flowcontainer.extractor import extract\n",
    "    packets = [pkt for pkt in scapy.rdpcap(now) if pkt.haslayer(scapy.IP) and (pkt.haslayer(scapy.TCP) or pkt.haslayer(scapy.UDP))]\n",
    "    # if len(packets) < 10:\n",
    "    #     continue\n",
    "    feature_result = extract(now, filter='tcp or udp', extension=['tls.record.content_type', 'tls.record.opaque_type', 'tls.handshake.type'])\n",
    "    feature_result\n",
    "    scapy_lengths = [len(pkt) for pkt in packets]\n",
    "    flow_lengths = []\n",
    "    for key, value in feature_result.items():\n",
    "        flow_lengths.extend(value.ip_lengths) \n",
    "    # print(scapy_lengths, flow_lengths)\n",
    "    print(feature_result)\n",
    "    # time.sleep(0.5)"
   ],
   "id": "2050dec94fdf8f8e",
   "outputs": [
    {
     "name": "stdout",
     "output_type": "stream",
     "text": [
      "{('./datasets/split_cap/ustctfc/MySQL/MySQL.pcap.TCP_1-1-245-166_20004_1-2-253-78_3306.pcap', 'tcp', '0'): <flowcontainer.flows.Flow object at 0x709759fdf590>}\n",
      "{('./datasets/split_cap/ustctfc/MySQL/MySQL.pcap.TCP_1-1-81-148_58859_1-2-85-57_3306.pcap', 'tcp', '0'): <flowcontainer.flows.Flow object at 0x70975a0d4aa0>}\n",
      "{('./datasets/split_cap/ustctfc/MySQL/MySQL.pcap.TCP_1-1-122-3_1663_1-2-181-172_3306.pcap', 'tcp', '0'): <flowcontainer.flows.Flow object at 0x70975a0d7440>}\n",
      "{('./datasets/split_cap/ustctfc/MySQL/MySQL.pcap.TCP_1-1-55-178_17587_1-2-139-212_3306.pcap', 'tcp', '0'): <flowcontainer.flows.Flow object at 0x70975a0d5d90>}\n",
      "{('./datasets/split_cap/ustctfc/MySQL/MySQL.pcap.TCP_1-1-213-94_28056_1-2-104-199_3306.pcap', 'tcp', '0'): <flowcontainer.flows.Flow object at 0x70975a0d70b0>}\n",
      "{('./datasets/split_cap/ustctfc/MySQL/MySQL.pcap.TCP_1-1-157-102_35247_1-2-48-237_3306.pcap', 'tcp', '0'): <flowcontainer.flows.Flow object at 0x70975a0d5070>}\n",
      "{('./datasets/split_cap/ustctfc/MySQL/MySQL.pcap.TCP_1-1-215-30_28578_1-2-106-226_3306.pcap', 'tcp', '0'): <flowcontainer.flows.Flow object at 0x70975a0d5550>}\n",
      "{('./datasets/split_cap/ustctfc/MySQL/MySQL.pcap.UDP_1-1-184-79_4967_1-2-13-137_53.pcap', 'udp', '0'): <flowcontainer.flows.Flow object at 0x709759b54830>}\n",
      "{('./datasets/split_cap/ustctfc/MySQL/MySQL.pcap.TCP_1-1-54-52_17164_1-2-62-48_3306.pcap', 'tcp', '0'): <flowcontainer.flows.Flow object at 0x70975a0d4650>}\n",
      "{('./datasets/split_cap/ustctfc/MySQL/MySQL.pcap.TCP_1-1-48-229_14757_1-2-52-228_3306.pcap', 'tcp', '0'): <flowcontainer.flows.Flow object at 0x70975a0d59d0>}\n",
      "{}\n",
      "{('./datasets/split_cap/ustctfc/MySQL/MySQL.pcap.TCP_1-1-48-75_15487_1-2-55-164_3306.pcap', 'tcp', '0'): <flowcontainer.flows.Flow object at 0x70975a0d5640>}\n",
      "{('./datasets/split_cap/ustctfc/MySQL/MySQL.pcap.UDP_1-1-115-81_31301_1-2-116-92_53.pcap', 'udp', '0'): <flowcontainer.flows.Flow object at 0x70975a0d5610>}\n",
      "{('./datasets/split_cap/ustctfc/MySQL/MySQL.pcap.TCP_1-1-207-190_46103_1-2-3-47_3306.pcap', 'tcp', '0'): <flowcontainer.flows.Flow object at 0x70975a0d4f50>}\n",
      "{('./datasets/split_cap/ustctfc/MySQL/MySQL.pcap.TCP_1-1-108-45_30760_1-2-115-84_3306.pcap', 'tcp', '0'): <flowcontainer.flows.Flow object at 0x70975a0d4140>}\n",
      "{('./datasets/split_cap/ustctfc/MySQL/MySQL.pcap.TCP_1-1-163-23_44863_1-2-30-112_3306.pcap', 'tcp', '0'): <flowcontainer.flows.Flow object at 0x70975a0d4a70>}\n",
      "{('./datasets/split_cap/ustctfc/MySQL/MySQL.pcap.UDP_1-1-221-243_56613_1-2-223-40_53.pcap', 'udp', '0'): <flowcontainer.flows.Flow object at 0x70975a0d57f0>}\n",
      "{('./datasets/split_cap/ustctfc/MySQL/MySQL.pcap.TCP_1-1-228-153_61619_1-2-227-230_3306.pcap', 'tcp', '0'): <flowcontainer.flows.Flow object at 0x70975a0d65d0>}\n",
      "{}\n",
      "{('./datasets/split_cap/ustctfc/MySQL/MySQL.pcap.TCP_1-1-60-159_62714_1-2-240-59_3306.pcap', 'tcp', '0'): <flowcontainer.flows.Flow object at 0x70975a0d5760>}\n",
      "{('./datasets/split_cap/ustctfc/MySQL/MySQL.pcap.TCP_1-1-129-68_36107_1-2-136-70_3306.pcap', 'tcp', '0'): <flowcontainer.flows.Flow object at 0x70975a0d59d0>}\n",
      "{}\n",
      "{('./datasets/split_cap/ustctfc/MySQL/MySQL.pcap.UDP_1-1-104-32_58176_1-2-105-69_53.pcap', 'udp', '0'): <flowcontainer.flows.Flow object at 0x70975a0d5220>}\n",
      "{('./datasets/split_cap/ustctfc/MySQL/MySQL.pcap.TCP_1-1-187-146_7059_1-2-162-200_3306.pcap', 'tcp', '0'): <flowcontainer.flows.Flow object at 0x70975a0d6ae0>}\n",
      "{('./datasets/split_cap/ustctfc/MySQL/MySQL.pcap.TCP_1-1-187-68_42835_1-2-162-127_3306.pcap', 'tcp', '0'): <flowcontainer.flows.Flow object at 0x70975a0d4980>}\n",
      "{('./datasets/split_cap/ustctfc/MySQL/MySQL.pcap.TCP_1-1-114-232_32496_1-2-122-37_3306.pcap', 'tcp', '0'): <flowcontainer.flows.Flow object at 0x70975a0d6360>}\n",
      "{('./datasets/split_cap/ustctfc/MySQL/MySQL.pcap.UDP_1-1-65-229_62756_1-2-67-20_53.pcap', 'udp', '0'): <flowcontainer.flows.Flow object at 0x70975a0d5550>}\n",
      "{('./datasets/split_cap/ustctfc/MySQL/MySQL.pcap.TCP_1-1-48-173_37037_1-2-55-246_3306.pcap', 'tcp', '0'): <flowcontainer.flows.Flow object at 0x709759f49ac0>}\n",
      "{}\n",
      "{('./datasets/split_cap/ustctfc/MySQL/MySQL.pcap.UDP_1-1-141-221_16369_1-2-58-119_53.pcap', 'udp', '0'): <flowcontainer.flows.Flow object at 0x70975a0d5be0>}\n",
      "{('./datasets/split_cap/ustctfc/MySQL/MySQL.pcap.TCP_1-1-145-4_12649_1-2-152-129_3306.pcap', 'tcp', '0'): <flowcontainer.flows.Flow object at 0x70975a0d5a30>}\n",
      "{('./datasets/split_cap/ustctfc/MySQL/MySQL.pcap.TCP_1-1-4-206_48301_1-2-191-225_3306.pcap', 'tcp', '0'): <flowcontainer.flows.Flow object at 0x70975a0d5220>}\n",
      "{('./datasets/split_cap/ustctfc/MySQL/MySQL.pcap.TCP_1-1-36-67_40055_1-2-43-169_3306.pcap', 'tcp', '0'): <flowcontainer.flows.Flow object at 0x70975a0d59d0>}\n",
      "{('./datasets/split_cap/ustctfc/MySQL/MySQL.pcap.TCP_1-1-132-160_37089_1-2-56-25_3306.pcap', 'tcp', '0'): <flowcontainer.flows.Flow object at 0x70975a0d62a0>}\n",
      "{('./datasets/split_cap/ustctfc/MySQL/MySQL.pcap.TCP_1-1-2-189_3798_1-2-10-17_3306.pcap', 'tcp', '0'): <flowcontainer.flows.Flow object at 0x70975a0d63c0>}\n",
      "{('./datasets/split_cap/ustctfc/MySQL/MySQL.pcap.UDP_1-1-76-151_65495_1-2-249-205_53.pcap', 'udp', '0'): <flowcontainer.flows.Flow object at 0x70975a0d5100>}\n",
      "{('./datasets/split_cap/ustctfc/MySQL/MySQL.pcap.TCP_1-1-186-20_42517_1-2-21-88_3306.pcap', 'tcp', '0'): <flowcontainer.flows.Flow object at 0x70975a0d7d70>}\n",
      "{}\n",
      "{('./datasets/split_cap/ustctfc/MySQL/MySQL.pcap.TCP_1-1-106-197_52128_1-2-198-203_3306.pcap', 'tcp', '0'): <flowcontainer.flows.Flow object at 0x70975a0d48f0>}\n",
      "{('./datasets/split_cap/ustctfc/MySQL/MySQL.pcap.TCP_1-1-200-235_46435_1-2-4-142_3306.pcap', 'tcp', '0'): <flowcontainer.flows.Flow object at 0x70975a0d7fe0>}\n",
      "{('./datasets/split_cap/ustctfc/MySQL/MySQL.pcap.TCP_1-1-136-124_18577_1-2-67-196_3306.pcap', 'tcp', '0'): <flowcontainer.flows.Flow object at 0x70975a0d4890>}\n",
      "{}\n",
      "{('./datasets/split_cap/ustctfc/MySQL/MySQL.pcap.TCP_1-1-2-228_3847_1-2-190-67_3306.pcap', 'tcp', '0'): <flowcontainer.flows.Flow object at 0x70975a0d7c50>}\n",
      "{('./datasets/split_cap/ustctfc/MySQL/MySQL.pcap.TCP_1-1-195-81_33596_1-2-202-109_3306.pcap', 'tcp', '0'): <flowcontainer.flows.Flow object at 0x70975a0d47a0>}\n",
      "{('./datasets/split_cap/ustctfc/MySQL/MySQL.pcap.UDP_1-1-15-73_5795_1-2-164-127_53.pcap', 'udp', '0'): <flowcontainer.flows.Flow object at 0x70975a0d6990>}\n",
      "{('./datasets/split_cap/ustctfc/MySQL/MySQL.pcap.TCP_1-1-79-166_61521_1-2-87-101_3306.pcap', 'tcp', '0'): <flowcontainer.flows.Flow object at 0x70975a0d59d0>}\n",
      "{('./datasets/split_cap/ustctfc/MySQL/MySQL.pcap.TCP_1-1-60-75_18310_1-2-246-197_3306.pcap', 'tcp', '0'): <flowcontainer.flows.Flow object at 0x70975a0d53a0>}\n",
      "{('./datasets/split_cap/ustctfc/MySQL/MySQL.pcap.TCP_1-1-144-181_40123_1-2-43-233_3306.pcap', 'tcp', '0'): <flowcontainer.flows.Flow object at 0x70975a0d71a0>}\n",
      "{}\n",
      "{('./datasets/split_cap/ustctfc/MySQL/MySQL.pcap.TCP_1-1-104-41_29747_1-2-111-99_3306.pcap', 'tcp', '0'): <flowcontainer.flows.Flow object at 0x709759bcca10>}\n",
      "{('./datasets/split_cap/ustctfc/MySQL/MySQL.pcap.TCP_1-1-167-254_44074_1-2-175-97_3306.pcap', 'tcp', '0'): <flowcontainer.flows.Flow object at 0x70975a0d6c60>}\n",
      "{('./datasets/split_cap/ustctfc/MySQL/MySQL.pcap.TCP_1-1-122-232_1875_1-2-2-154_3306.pcap', 'tcp', '0'): <flowcontainer.flows.Flow object at 0x70975a0d5b20>}\n",
      "{('./datasets/split_cap/ustctfc/MySQL/MySQL.pcap.TCP_1-1-253-62_59812_1-2-228-187_3306.pcap', 'tcp', '0'): <flowcontainer.flows.Flow object at 0x70975a0d7710>}\n",
      "{('./datasets/split_cap/ustctfc/MySQL/MySQL.pcap.TCP_1-1-229-226_23140_1-2-85-165_3306.pcap', 'tcp', '0'): <flowcontainer.flows.Flow object at 0x70975a0d6270>}\n",
      "{('./datasets/split_cap/ustctfc/MySQL/MySQL.pcap.TCP_1-1-0-182_3327_1-2-8-54_3306.pcap', 'tcp', '0'): <flowcontainer.flows.Flow object at 0x70975a0d47a0>}\n",
      "{('./datasets/split_cap/ustctfc/MySQL/MySQL.pcap.TCP_1-1-16-158_7247_1-2-163-127_3306.pcap', 'tcp', '0'): <flowcontainer.flows.Flow object at 0x70975a0d6d20>}\n",
      "{}\n",
      "{('./datasets/split_cap/ustctfc/MySQL/MySQL.pcap.TCP_1-1-57-37_16832_1-2-60-250_3306.pcap', 'tcp', '0'): <flowcontainer.flows.Flow object at 0x70975a0d6900>}\n",
      "{('./datasets/split_cap/ustctfc/MySQL/MySQL.pcap.TCP_1-1-179-30_48976_1-2-14-126_3306.pcap', 'tcp', '0'): <flowcontainer.flows.Flow object at 0x70975a0d4cb0>}\n",
      "{('./datasets/split_cap/ustctfc/MySQL/MySQL.pcap.TCP_1-1-234-103_54956_1-2-101-223_3306.pcap', 'tcp', '0'): <flowcontainer.flows.Flow object at 0x70975a0d6180>}\n",
      "{('./datasets/split_cap/ustctfc/MySQL/MySQL.pcap.UDP_1-1-18-5_43859_1-2-18-143_53.pcap', 'udp', '0'): <flowcontainer.flows.Flow object at 0x70975a0d5bb0>}\n",
      "{('./datasets/split_cap/ustctfc/MySQL/MySQL.pcap.TCP_1-1-1-218_49750_1-2-189-92_3306.pcap', 'tcp', '0'): <flowcontainer.flows.Flow object at 0x70975a0d73e0>}\n",
      "{}\n",
      "{('./datasets/split_cap/ustctfc/MySQL/MySQL.pcap.TCP_1-1-253-38_21829_1-2-228-119_3306.pcap', 'tcp', '0'): <flowcontainer.flows.Flow object at 0x70975a0d6d20>}\n",
      "{('./datasets/split_cap/ustctfc/MySQL/MySQL.pcap.TCP_1-1-37-151_12830_1-2-45-80_3306.pcap', 'tcp', '0'): <flowcontainer.flows.Flow object at 0x70975a0d51f0>}\n",
      "{('./datasets/split_cap/ustctfc/MySQL/MySQL.pcap.TCP_1-1-57-74_17849_1-2-244-251_3306.pcap', 'tcp', '0'): <flowcontainer.flows.Flow object at 0x70975a0d7d10>}\n",
      "{('./datasets/split_cap/ustctfc/MySQL/MySQL.pcap.TCP_1-1-125-111_46517_1-2-4-228_3306.pcap', 'tcp', '0'): <flowcontainer.flows.Flow object at 0x70975a0d5c70>}\n",
      "{('./datasets/split_cap/ustctfc/MySQL/MySQL.pcap.TCP_1-1-127-160_3046_1-2-7-11_3306.pcap', 'tcp', '0'): <flowcontainer.flows.Flow object at 0x70975a0d62a0>}\n",
      "{('./datasets/split_cap/ustctfc/MySQL/MySQL.pcap.TCP_1-1-125-135_2520_1-2-4-251_3306.pcap', 'tcp', '0'): <flowcontainer.flows.Flow object at 0x70975a0d4e60>}\n",
      "{('./datasets/split_cap/ustctfc/MySQL/MySQL.pcap.TCP_1-1-126-183_47935_1-2-2-143_3306.pcap', 'tcp', '0'): <flowcontainer.flows.Flow object at 0x70975a0d6c30>}\n",
      "{('./datasets/split_cap/ustctfc/MySQL/MySQL.pcap.TCP_1-1-166-123_45843_1-2-174-47_3306.pcap', 'tcp', '0'): <flowcontainer.flows.Flow object at 0x70975a0d7650>}\n",
      "{('./datasets/split_cap/ustctfc/MySQL/MySQL.pcap.TCP_1-1-193-166_33185_1-2-124-228_3306.pcap', 'tcp', '0'): <flowcontainer.flows.Flow object at 0x70975a0d5490>}\n",
      "{('./datasets/split_cap/ustctfc/MySQL/MySQL.pcap.TCP_1-1-70-27_20128_1-2-253-233_3306.pcap', 'tcp', '0'): <flowcontainer.flows.Flow object at 0x70975a0d6b70>}\n",
      "{}\n"
     ]
    },
    {
     "ename": "KeyboardInterrupt",
     "evalue": "",
     "output_type": "error",
     "traceback": [
      "\u001B[0;31m---------------------------------------------------------------------------\u001B[0m",
      "\u001B[0;31mKeyboardInterrupt\u001B[0m                         Traceback (most recent call last)",
      "Cell \u001B[0;32mIn[89], line 7\u001B[0m\n\u001B[1;32m      4\u001B[0m packets \u001B[38;5;241m=\u001B[39m [pkt \u001B[38;5;28;01mfor\u001B[39;00m pkt \u001B[38;5;129;01min\u001B[39;00m scapy\u001B[38;5;241m.\u001B[39mrdpcap(now) \u001B[38;5;28;01mif\u001B[39;00m pkt\u001B[38;5;241m.\u001B[39mhaslayer(scapy\u001B[38;5;241m.\u001B[39mIP) \u001B[38;5;129;01mand\u001B[39;00m (pkt\u001B[38;5;241m.\u001B[39mhaslayer(scapy\u001B[38;5;241m.\u001B[39mTCP) \u001B[38;5;129;01mor\u001B[39;00m pkt\u001B[38;5;241m.\u001B[39mhaslayer(scapy\u001B[38;5;241m.\u001B[39mUDP))]\n\u001B[1;32m      5\u001B[0m \u001B[38;5;66;03m# if len(packets) < 10:\u001B[39;00m\n\u001B[1;32m      6\u001B[0m \u001B[38;5;66;03m#     continue\u001B[39;00m\n\u001B[0;32m----> 7\u001B[0m feature_result \u001B[38;5;241m=\u001B[39m extract(now, \u001B[38;5;28mfilter\u001B[39m\u001B[38;5;241m=\u001B[39m\u001B[38;5;124m'\u001B[39m\u001B[38;5;124mtcp or udp\u001B[39m\u001B[38;5;124m'\u001B[39m, extension\u001B[38;5;241m=\u001B[39m[\u001B[38;5;124m'\u001B[39m\u001B[38;5;124mtls.record.content_type\u001B[39m\u001B[38;5;124m'\u001B[39m, \u001B[38;5;124m'\u001B[39m\u001B[38;5;124mtls.record.opaque_type\u001B[39m\u001B[38;5;124m'\u001B[39m, \u001B[38;5;124m'\u001B[39m\u001B[38;5;124mtls.handshake.type\u001B[39m\u001B[38;5;124m'\u001B[39m])\n\u001B[1;32m      8\u001B[0m feature_result\n\u001B[1;32m      9\u001B[0m scapy_lengths \u001B[38;5;241m=\u001B[39m [\u001B[38;5;28mlen\u001B[39m(pkt) \u001B[38;5;28;01mfor\u001B[39;00m pkt \u001B[38;5;129;01min\u001B[39;00m packets]\n",
      "File \u001B[0;32m~/anaconda3/lib/python3.12/site-packages/flowcontainer/extractor.py:75\u001B[0m, in \u001B[0;36mextract\u001B[0;34m(infile, filter, extension, ip_layer, verbose, cmd_parameter, split_flag)\u001B[0m\n\u001B[1;32m     72\u001B[0m     shutil\u001B[38;5;241m.\u001B[39mrmtree(path\u001B[38;5;241m=\u001B[39mdirs, ignore_errors\u001B[38;5;241m=\u001B[39m\u001B[38;5;28;01mTrue\u001B[39;00m)\n\u001B[1;32m     74\u001B[0m \u001B[38;5;28;01melse\u001B[39;00m:\n\u001B[0;32m---> 75\u001B[0m     result \u001B[38;5;241m=\u001B[39m real_extract(infile,\u001B[38;5;28mfilter\u001B[39m,extension, ip_layer, cmd_parameter, verbose)\n\u001B[1;32m     77\u001B[0m \u001B[38;5;28;01mreturn\u001B[39;00m result\n",
      "File \u001B[0;32m~/anaconda3/lib/python3.12/site-packages/flowcontainer/extractor.py:16\u001B[0m, in \u001B[0;36mreal_extract\u001B[0;34m(infile, filter, extension, ip_layer, cmd_parameter, verbose)\u001B[0m\n\u001B[1;32m     14\u001B[0m flow_generator \u001B[38;5;241m=\u001B[39m FlowGenerator()\n\u001B[1;32m     15\u001B[0m \u001B[38;5;66;03m# Read packets\u001B[39;00m\n\u001B[0;32m---> 16\u001B[0m result \u001B[38;5;241m=\u001B[39m reader\u001B[38;5;241m.\u001B[39mread(infile,\u001B[38;5;28mfilter\u001B[39m,extension,ip_layer,cmd_parameter\u001B[38;5;241m=\u001B[39mcmd_parameter)\n\u001B[1;32m     17\u001B[0m \u001B[38;5;66;03m# Combine packets into flows\u001B[39;00m\n\u001B[1;32m     18\u001B[0m result \u001B[38;5;241m=\u001B[39m flow_generator\u001B[38;5;241m.\u001B[39mcombine(result,extension)\n",
      "File \u001B[0;32m~/anaconda3/lib/python3.12/site-packages/flowcontainer/reader.py:112\u001B[0m, in \u001B[0;36mReader.read\u001B[0;34m(self, path, filter, extension, ip_layer, cmd_parameter)\u001B[0m\n\u001B[1;32m    109\u001B[0m             \u001B[38;5;28;01mraise\u001B[39;00m  \u001B[38;5;167;01mEnvironmentError\u001B[39;00m(\u001B[38;5;124m'\u001B[39m\u001B[38;5;124mthe version of numpy should be greater than \u001B[39m\u001B[38;5;132;01m{1}\u001B[39;00m\u001B[38;5;124m at least, however the current version is \u001B[39m\u001B[38;5;132;01m{0}\u001B[39;00m\u001B[38;5;124m.\u001B[39m\u001B[38;5;124m'\u001B[39m\u001B[38;5;241m.\u001B[39mformat(np\u001B[38;5;241m.\u001B[39m__version__ , __numpy_min_version__))\n\u001B[1;32m    111\u001B[0m         __flag__ \u001B[38;5;241m==\u001B[39m \u001B[38;5;28mobject\u001B[39m()\n\u001B[0;32m--> 112\u001B[0m     \u001B[38;5;28;01mreturn\u001B[39;00m \u001B[38;5;28mself\u001B[39m\u001B[38;5;241m.\u001B[39mread_tshark(path,\u001B[38;5;28mfilter\u001B[39m,extension,ip_layer, cmd_parameter)\n\u001B[1;32m    113\u001B[0m \u001B[38;5;28;01mexcept\u001B[39;00m \u001B[38;5;167;01mException\u001B[39;00m \u001B[38;5;28;01mas\u001B[39;00m ex:\n\u001B[1;32m    114\u001B[0m     \u001B[38;5;28;01mif\u001B[39;00m \u001B[38;5;28misinstance\u001B[39m(ex,\u001B[38;5;167;01mEnvironmentError\u001B[39;00m):\n",
      "File \u001B[0;32m~/anaconda3/lib/python3.12/site-packages/flowcontainer/reader.py:214\u001B[0m, in \u001B[0;36mReader.read_tshark\u001B[0;34m(self, path, filter_str, extension, ip_layer, cmd_parameter)\u001B[0m\n\u001B[1;32m    212\u001B[0m process \u001B[38;5;241m=\u001B[39m Popen(command, stdout\u001B[38;5;241m=\u001B[39mPIPE, stderr\u001B[38;5;241m=\u001B[39mPIPE)\n\u001B[1;32m    213\u001B[0m \u001B[38;5;66;03m# Get output\u001B[39;00m\n\u001B[0;32m--> 214\u001B[0m out, err \u001B[38;5;241m=\u001B[39m process\u001B[38;5;241m.\u001B[39mcommunicate()\n\u001B[1;32m    216\u001B[0m \u001B[38;5;66;03m# Give warning message if any\u001B[39;00m\n\u001B[1;32m    217\u001B[0m \u001B[38;5;28;01mif\u001B[39;00m err:\n",
      "File \u001B[0;32m~/anaconda3/lib/python3.12/subprocess.py:1209\u001B[0m, in \u001B[0;36mPopen.communicate\u001B[0;34m(self, input, timeout)\u001B[0m\n\u001B[1;32m   1206\u001B[0m     endtime \u001B[38;5;241m=\u001B[39m \u001B[38;5;28;01mNone\u001B[39;00m\n\u001B[1;32m   1208\u001B[0m \u001B[38;5;28;01mtry\u001B[39;00m:\n\u001B[0;32m-> 1209\u001B[0m     stdout, stderr \u001B[38;5;241m=\u001B[39m \u001B[38;5;28mself\u001B[39m\u001B[38;5;241m.\u001B[39m_communicate(\u001B[38;5;28minput\u001B[39m, endtime, timeout)\n\u001B[1;32m   1210\u001B[0m \u001B[38;5;28;01mexcept\u001B[39;00m \u001B[38;5;167;01mKeyboardInterrupt\u001B[39;00m:\n\u001B[1;32m   1211\u001B[0m     \u001B[38;5;66;03m# https://bugs.python.org/issue25942\u001B[39;00m\n\u001B[1;32m   1212\u001B[0m     \u001B[38;5;66;03m# See the detailed comment in .wait().\u001B[39;00m\n\u001B[1;32m   1213\u001B[0m     \u001B[38;5;28;01mif\u001B[39;00m timeout \u001B[38;5;129;01mis\u001B[39;00m \u001B[38;5;129;01mnot\u001B[39;00m \u001B[38;5;28;01mNone\u001B[39;00m:\n",
      "File \u001B[0;32m~/anaconda3/lib/python3.12/subprocess.py:2115\u001B[0m, in \u001B[0;36mPopen._communicate\u001B[0;34m(self, input, endtime, orig_timeout)\u001B[0m\n\u001B[1;32m   2108\u001B[0m     \u001B[38;5;28mself\u001B[39m\u001B[38;5;241m.\u001B[39m_check_timeout(endtime, orig_timeout,\n\u001B[1;32m   2109\u001B[0m                         stdout, stderr,\n\u001B[1;32m   2110\u001B[0m                         skip_check_and_raise\u001B[38;5;241m=\u001B[39m\u001B[38;5;28;01mTrue\u001B[39;00m)\n\u001B[1;32m   2111\u001B[0m     \u001B[38;5;28;01mraise\u001B[39;00m \u001B[38;5;167;01mRuntimeError\u001B[39;00m(  \u001B[38;5;66;03m# Impossible :)\u001B[39;00m\n\u001B[1;32m   2112\u001B[0m         \u001B[38;5;124m'\u001B[39m\u001B[38;5;124m_check_timeout(..., skip_check_and_raise=True) \u001B[39m\u001B[38;5;124m'\u001B[39m\n\u001B[1;32m   2113\u001B[0m         \u001B[38;5;124m'\u001B[39m\u001B[38;5;124mfailed to raise TimeoutExpired.\u001B[39m\u001B[38;5;124m'\u001B[39m)\n\u001B[0;32m-> 2115\u001B[0m ready \u001B[38;5;241m=\u001B[39m selector\u001B[38;5;241m.\u001B[39mselect(timeout)\n\u001B[1;32m   2116\u001B[0m \u001B[38;5;28mself\u001B[39m\u001B[38;5;241m.\u001B[39m_check_timeout(endtime, orig_timeout, stdout, stderr)\n\u001B[1;32m   2118\u001B[0m \u001B[38;5;66;03m# XXX Rewrite these to use non-blocking I/O on the file\u001B[39;00m\n\u001B[1;32m   2119\u001B[0m \u001B[38;5;66;03m# objects; they are no longer using C stdio!\u001B[39;00m\n",
      "File \u001B[0;32m~/anaconda3/lib/python3.12/selectors.py:415\u001B[0m, in \u001B[0;36m_PollLikeSelector.select\u001B[0;34m(self, timeout)\u001B[0m\n\u001B[1;32m    413\u001B[0m ready \u001B[38;5;241m=\u001B[39m []\n\u001B[1;32m    414\u001B[0m \u001B[38;5;28;01mtry\u001B[39;00m:\n\u001B[0;32m--> 415\u001B[0m     fd_event_list \u001B[38;5;241m=\u001B[39m \u001B[38;5;28mself\u001B[39m\u001B[38;5;241m.\u001B[39m_selector\u001B[38;5;241m.\u001B[39mpoll(timeout)\n\u001B[1;32m    416\u001B[0m \u001B[38;5;28;01mexcept\u001B[39;00m \u001B[38;5;167;01mInterruptedError\u001B[39;00m:\n\u001B[1;32m    417\u001B[0m     \u001B[38;5;28;01mreturn\u001B[39;00m ready\n",
      "\u001B[0;31mKeyboardInterrupt\u001B[0m: "
     ]
    }
   ],
   "execution_count": 89
  },
  {
   "metadata": {
    "ExecuteTime": {
     "end_time": "2025-01-29T06:58:01.838966Z",
     "start_time": "2025-01-29T06:58:01.837480Z"
    }
   },
   "cell_type": "code",
   "source": "",
   "id": "c2e28bef893e46e4",
   "outputs": [],
   "execution_count": null
  },
  {
   "metadata": {
    "ExecuteTime": {
     "end_time": "2025-01-29T06:58:02.713444Z",
     "start_time": "2025-01-29T06:58:02.663486Z"
    }
   },
   "cell_type": "code",
   "source": "",
   "id": "6f84de0753a023e",
   "outputs": [
    {
     "name": "stdout",
     "output_type": "stream",
     "text": [
      "./datasets/pcap/USTC-TFC2016/Benign/MySQL.pcap 0\n",
      "./datasets/pcap/USTC-TFC2016/Benign/FTP.pcap 1\n",
      "./datasets/pcap/USTC-TFC2016/Benign/BitTorrent.pcap 2\n",
      "./datasets/pcap/USTC-TFC2016/Benign/Skype.pcap 3\n",
      "./datasets/pcap/USTC-TFC2016/Benign/Gmail.pcap 4\n",
      "./datasets/pcap/USTC-TFC2016/Benign/Facetime.pcap 5\n",
      "./datasets/pcap/USTC-TFC2016/Benign/Outlook.pcap 6\n",
      "./datasets/pcap/USTC-TFC2016/Benign/WorldOfWarcraft.pcap 7\n",
      "./datasets/pcap/USTC-TFC2016/Benign/Weibo/Weibo-4.pcap 8\n",
      "./datasets/pcap/USTC-TFC2016/Benign/Weibo/Weibo-1.pcap 8\n",
      "./datasets/pcap/USTC-TFC2016/Benign/Weibo/Weibo-3.pcap 8\n",
      "./datasets/pcap/USTC-TFC2016/Benign/Weibo/Weibo-2.pcap 8\n",
      "./datasets/pcap/USTC-TFC2016/Benign/SMB/SMB-2.pcap 9\n",
      "./datasets/pcap/USTC-TFC2016/Benign/SMB/SMB-1.pcap 9\n",
      "./datasets/pcap/USTC-TFC2016/Malware/Geodo.pcap 10\n",
      "./datasets/pcap/USTC-TFC2016/Malware/Cridex.pcap 11\n",
      "./datasets/pcap/USTC-TFC2016/Malware/Miuref.pcap 12\n",
      "./datasets/pcap/USTC-TFC2016/Malware/Virut.pcap 13\n",
      "./datasets/pcap/USTC-TFC2016/Malware/Neris.pcap 14\n",
      "./datasets/pcap/USTC-TFC2016/Malware/Zeus.pcap 15\n",
      "./datasets/pcap/USTC-TFC2016/Malware/Shifu.pcap 16\n",
      "./datasets/pcap/USTC-TFC2016/Malware/Nsis-ay.pcap 17\n",
      "./datasets/pcap/USTC-TFC2016/Malware/Htbot.pcap 18\n",
      "./datasets/pcap/USTC-TFC2016/Malware/Tinba.pcap 19\n"
     ]
    }
   ],
   "execution_count": 3
  },
  {
   "metadata": {
    "ExecuteTime": {
     "end_time": "2025-01-29T06:58:25.963120Z",
     "start_time": "2025-01-29T06:58:19.238085Z"
    }
   },
   "cell_type": "code",
   "source": [
    "# x, y = [], []\n",
    "# from tqdm import *\n",
    "# for i in trange(len(all_address)):\n",
    "#     now = all_address[i]\n",
    "#     from flowcontainer.extractor import extract\n",
    "#     feature_result = extract(now, filter='tcp or udp', extension=['tls.record.content_type', 'tls.record.opaque_type', 'tls.handshake.type'])\n",
    "#     flow_lengths = []\n",
    "#     for key, value in feature_result.items():\n",
    "#         flow_lengths.extend(value.ip_lengths) \n",
    "#     if len(flow_lengths) < 30:\n",
    "#         continue\n",
    "#     x.append(flow_lengths[:30])\n",
    "#     y.append(all_label[i])"
   ],
   "id": "bc4088cb62c19829",
   "outputs": [
    {
     "name": "stderr",
     "output_type": "stream",
     "text": [
      "  0%|          | 34/489139 [00:06<26:42:56,  5.09it/s]\n"
     ]
    },
    {
     "ename": "OSError",
     "evalue": "tshark is not installed or added to environment path.",
     "output_type": "error",
     "traceback": [
      "\u001B[0;31m---------------------------------------------------------------------------\u001B[0m",
      "\u001B[0;31mKeyboardInterrupt\u001B[0m                         Traceback (most recent call last)",
      "File \u001B[0;32m~/anaconda3/lib/python3.12/site-packages/flowcontainer/reader.py:98\u001B[0m, in \u001B[0;36mReader.read\u001B[0;34m(self, path, filter, extension, ip_layer, cmd_parameter)\u001B[0m\n\u001B[1;32m     97\u001B[0m     \u001B[38;5;66;03m# Get output\u001B[39;00m\n\u001B[0;32m---> 98\u001B[0m     out, err \u001B[38;5;241m=\u001B[39m process\u001B[38;5;241m.\u001B[39mcommunicate()\n\u001B[1;32m     99\u001B[0m \u001B[38;5;28;01mexcept\u001B[39;00m :\n",
      "File \u001B[0;32m~/anaconda3/lib/python3.12/subprocess.py:1209\u001B[0m, in \u001B[0;36mPopen.communicate\u001B[0;34m(self, input, timeout)\u001B[0m\n\u001B[1;32m   1208\u001B[0m \u001B[38;5;28;01mtry\u001B[39;00m:\n\u001B[0;32m-> 1209\u001B[0m     stdout, stderr \u001B[38;5;241m=\u001B[39m \u001B[38;5;28mself\u001B[39m\u001B[38;5;241m.\u001B[39m_communicate(\u001B[38;5;28minput\u001B[39m, endtime, timeout)\n\u001B[1;32m   1210\u001B[0m \u001B[38;5;28;01mexcept\u001B[39;00m \u001B[38;5;167;01mKeyboardInterrupt\u001B[39;00m:\n\u001B[1;32m   1211\u001B[0m     \u001B[38;5;66;03m# https://bugs.python.org/issue25942\u001B[39;00m\n\u001B[1;32m   1212\u001B[0m     \u001B[38;5;66;03m# See the detailed comment in .wait().\u001B[39;00m\n",
      "File \u001B[0;32m~/anaconda3/lib/python3.12/subprocess.py:2115\u001B[0m, in \u001B[0;36mPopen._communicate\u001B[0;34m(self, input, endtime, orig_timeout)\u001B[0m\n\u001B[1;32m   2111\u001B[0m     \u001B[38;5;28;01mraise\u001B[39;00m \u001B[38;5;167;01mRuntimeError\u001B[39;00m(  \u001B[38;5;66;03m# Impossible :)\u001B[39;00m\n\u001B[1;32m   2112\u001B[0m         \u001B[38;5;124m'\u001B[39m\u001B[38;5;124m_check_timeout(..., skip_check_and_raise=True) \u001B[39m\u001B[38;5;124m'\u001B[39m\n\u001B[1;32m   2113\u001B[0m         \u001B[38;5;124m'\u001B[39m\u001B[38;5;124mfailed to raise TimeoutExpired.\u001B[39m\u001B[38;5;124m'\u001B[39m)\n\u001B[0;32m-> 2115\u001B[0m ready \u001B[38;5;241m=\u001B[39m selector\u001B[38;5;241m.\u001B[39mselect(timeout)\n\u001B[1;32m   2116\u001B[0m \u001B[38;5;28mself\u001B[39m\u001B[38;5;241m.\u001B[39m_check_timeout(endtime, orig_timeout, stdout, stderr)\n",
      "File \u001B[0;32m~/anaconda3/lib/python3.12/selectors.py:415\u001B[0m, in \u001B[0;36m_PollLikeSelector.select\u001B[0;34m(self, timeout)\u001B[0m\n\u001B[1;32m    414\u001B[0m \u001B[38;5;28;01mtry\u001B[39;00m:\n\u001B[0;32m--> 415\u001B[0m     fd_event_list \u001B[38;5;241m=\u001B[39m \u001B[38;5;28mself\u001B[39m\u001B[38;5;241m.\u001B[39m_selector\u001B[38;5;241m.\u001B[39mpoll(timeout)\n\u001B[1;32m    416\u001B[0m \u001B[38;5;28;01mexcept\u001B[39;00m \u001B[38;5;167;01mInterruptedError\u001B[39;00m:\n",
      "\u001B[0;31mKeyboardInterrupt\u001B[0m: ",
      "\nDuring handling of the above exception, another exception occurred:\n",
      "\u001B[0;31mOSError\u001B[0m                                   Traceback (most recent call last)",
      "File \u001B[0;32m~/anaconda3/lib/python3.12/site-packages/flowcontainer/reader.py:100\u001B[0m, in \u001B[0;36mReader.read\u001B[0;34m(self, path, filter, extension, ip_layer, cmd_parameter)\u001B[0m\n\u001B[1;32m     99\u001B[0m \u001B[38;5;28;01mexcept\u001B[39;00m :\n\u001B[0;32m--> 100\u001B[0m     \u001B[38;5;28;01mraise\u001B[39;00m  \u001B[38;5;167;01mEnvironmentError\u001B[39;00m(\u001B[38;5;124m'\u001B[39m\u001B[38;5;124mtshark is not installed or added to environment path.\u001B[39m\u001B[38;5;124m'\u001B[39m)\n\u001B[1;32m    101\u001B[0m head \u001B[38;5;241m=\u001B[39m out\u001B[38;5;241m.\u001B[39mdecode(\u001B[38;5;124m\"\u001B[39m\u001B[38;5;124mutf-8\u001B[39m\u001B[38;5;124m\"\u001B[39m)\u001B[38;5;241m.\u001B[39msplit(\u001B[38;5;124m'\u001B[39m\u001B[38;5;130;01m\\n\u001B[39;00m\u001B[38;5;124m'\u001B[39m)[\u001B[38;5;241m0\u001B[39m]\u001B[38;5;241m.\u001B[39mstrip()\n",
      "\u001B[0;31mOSError\u001B[0m: tshark is not installed or added to environment path.",
      "\nDuring handling of the above exception, another exception occurred:\n",
      "\u001B[0;31mOSError\u001B[0m                                   Traceback (most recent call last)",
      "Cell \u001B[0;32mIn[5], line 6\u001B[0m\n\u001B[1;32m      4\u001B[0m now \u001B[38;5;241m=\u001B[39m all_address[i]\n\u001B[1;32m      5\u001B[0m \u001B[38;5;28;01mfrom\u001B[39;00m \u001B[38;5;21;01mflowcontainer\u001B[39;00m\u001B[38;5;21;01m.\u001B[39;00m\u001B[38;5;21;01mextractor\u001B[39;00m \u001B[38;5;28;01mimport\u001B[39;00m extract\n\u001B[0;32m----> 6\u001B[0m feature_result \u001B[38;5;241m=\u001B[39m extract(now, \u001B[38;5;28mfilter\u001B[39m\u001B[38;5;241m=\u001B[39m\u001B[38;5;124m'\u001B[39m\u001B[38;5;124mtcp or udp\u001B[39m\u001B[38;5;124m'\u001B[39m, extension\u001B[38;5;241m=\u001B[39m[\u001B[38;5;124m'\u001B[39m\u001B[38;5;124mtls.record.content_type\u001B[39m\u001B[38;5;124m'\u001B[39m, \u001B[38;5;124m'\u001B[39m\u001B[38;5;124mtls.record.opaque_type\u001B[39m\u001B[38;5;124m'\u001B[39m, \u001B[38;5;124m'\u001B[39m\u001B[38;5;124mtls.handshake.type\u001B[39m\u001B[38;5;124m'\u001B[39m])\n\u001B[1;32m      7\u001B[0m flow_lengths \u001B[38;5;241m=\u001B[39m []\n\u001B[1;32m      8\u001B[0m \u001B[38;5;28;01mfor\u001B[39;00m key, value \u001B[38;5;129;01min\u001B[39;00m feature_result\u001B[38;5;241m.\u001B[39mitems():\n",
      "File \u001B[0;32m~/anaconda3/lib/python3.12/site-packages/flowcontainer/extractor.py:75\u001B[0m, in \u001B[0;36mextract\u001B[0;34m(infile, filter, extension, ip_layer, verbose, cmd_parameter, split_flag)\u001B[0m\n\u001B[1;32m     72\u001B[0m     shutil\u001B[38;5;241m.\u001B[39mrmtree(path\u001B[38;5;241m=\u001B[39mdirs, ignore_errors\u001B[38;5;241m=\u001B[39m\u001B[38;5;28;01mTrue\u001B[39;00m)\n\u001B[1;32m     74\u001B[0m \u001B[38;5;28;01melse\u001B[39;00m:\n\u001B[0;32m---> 75\u001B[0m     result \u001B[38;5;241m=\u001B[39m real_extract(infile,\u001B[38;5;28mfilter\u001B[39m,extension, ip_layer, cmd_parameter, verbose)\n\u001B[1;32m     77\u001B[0m \u001B[38;5;28;01mreturn\u001B[39;00m result\n",
      "File \u001B[0;32m~/anaconda3/lib/python3.12/site-packages/flowcontainer/extractor.py:16\u001B[0m, in \u001B[0;36mreal_extract\u001B[0;34m(infile, filter, extension, ip_layer, cmd_parameter, verbose)\u001B[0m\n\u001B[1;32m     14\u001B[0m flow_generator \u001B[38;5;241m=\u001B[39m FlowGenerator()\n\u001B[1;32m     15\u001B[0m \u001B[38;5;66;03m# Read packets\u001B[39;00m\n\u001B[0;32m---> 16\u001B[0m result \u001B[38;5;241m=\u001B[39m reader\u001B[38;5;241m.\u001B[39mread(infile,\u001B[38;5;28mfilter\u001B[39m,extension,ip_layer,cmd_parameter\u001B[38;5;241m=\u001B[39mcmd_parameter)\n\u001B[1;32m     17\u001B[0m \u001B[38;5;66;03m# Combine packets into flows\u001B[39;00m\n\u001B[1;32m     18\u001B[0m result \u001B[38;5;241m=\u001B[39m flow_generator\u001B[38;5;241m.\u001B[39mcombine(result,extension)\n",
      "File \u001B[0;32m~/anaconda3/lib/python3.12/site-packages/flowcontainer/reader.py:115\u001B[0m, in \u001B[0;36mReader.read\u001B[0;34m(self, path, filter, extension, ip_layer, cmd_parameter)\u001B[0m\n\u001B[1;32m    113\u001B[0m \u001B[38;5;28;01mexcept\u001B[39;00m \u001B[38;5;167;01mException\u001B[39;00m \u001B[38;5;28;01mas\u001B[39;00m ex:\n\u001B[1;32m    114\u001B[0m     \u001B[38;5;28;01mif\u001B[39;00m \u001B[38;5;28misinstance\u001B[39m(ex,\u001B[38;5;167;01mEnvironmentError\u001B[39;00m):\n\u001B[0;32m--> 115\u001B[0m         \u001B[38;5;28;01mraise\u001B[39;00m \u001B[38;5;167;01mEnvironmentError\u001B[39;00m(ex)\n\u001B[1;32m    116\u001B[0m     warnings\u001B[38;5;241m.\u001B[39mwarn(\u001B[38;5;124m\"\u001B[39m\u001B[38;5;124mRunning Error : tshark parse error : \u001B[39m\u001B[38;5;124m'\u001B[39m\u001B[38;5;132;01m{0}\u001B[39;00m\u001B[38;5;124m'\u001B[39m\u001B[38;5;124m.\u001B[39m\u001B[38;5;124m\"\u001B[39m\n\u001B[1;32m    117\u001B[0m                   \u001B[38;5;241m.\u001B[39mformat(ex))\n",
      "\u001B[0;31mOSError\u001B[0m: tshark is not installed or added to environment path."
     ]
    }
   ],
   "execution_count": 5
  },
  {
   "metadata": {
    "ExecuteTime": {
     "end_time": "2025-01-29T09:27:26.644773Z",
     "start_time": "2025-01-29T09:27:26.579064Z"
    }
   },
   "cell_type": "code",
   "source": [
    "from data_load.get_ustctfc import get_ustctfc, get_x_and_y\n",
    "\n",
    "all_address, all_label = get_ustctfc()\n",
    "all_address, all_label = get_x_and_y(all_address, all_label)\n",
    "all_address, all_label = all_address[:10], all_label[:10]"
   ],
   "id": "c85c27cf82bc002a",
   "outputs": [
    {
     "name": "stdout",
     "output_type": "stream",
     "text": [
      "./datasets/pcap/USTC-TFC2016/Benign/MySQL.pcap 0\n",
      "./datasets/pcap/USTC-TFC2016/Benign/FTP.pcap 1\n",
      "./datasets/pcap/USTC-TFC2016/Benign/BitTorrent.pcap 2\n",
      "./datasets/pcap/USTC-TFC2016/Benign/Skype.pcap 3\n",
      "./datasets/pcap/USTC-TFC2016/Benign/Gmail.pcap 4\n",
      "./datasets/pcap/USTC-TFC2016/Benign/Facetime.pcap 5\n",
      "./datasets/pcap/USTC-TFC2016/Benign/Outlook.pcap 6\n",
      "./datasets/pcap/USTC-TFC2016/Benign/WorldOfWarcraft.pcap 7\n",
      "./datasets/pcap/USTC-TFC2016/Benign/Weibo/Weibo-4.pcap 8\n",
      "./datasets/pcap/USTC-TFC2016/Benign/Weibo/Weibo-1.pcap 8\n",
      "./datasets/pcap/USTC-TFC2016/Benign/Weibo/Weibo-3.pcap 8\n",
      "./datasets/pcap/USTC-TFC2016/Benign/Weibo/Weibo-2.pcap 8\n",
      "./datasets/pcap/USTC-TFC2016/Benign/SMB/SMB-2.pcap 9\n",
      "./datasets/pcap/USTC-TFC2016/Benign/SMB/SMB-1.pcap 9\n",
      "./datasets/pcap/USTC-TFC2016/Malware/Geodo.pcap 10\n",
      "./datasets/pcap/USTC-TFC2016/Malware/Cridex.pcap 11\n",
      "./datasets/pcap/USTC-TFC2016/Malware/Miuref.pcap 12\n",
      "./datasets/pcap/USTC-TFC2016/Malware/Virut.pcap 13\n",
      "./datasets/pcap/USTC-TFC2016/Malware/Neris.pcap 14\n",
      "./datasets/pcap/USTC-TFC2016/Malware/Zeus.pcap 15\n",
      "./datasets/pcap/USTC-TFC2016/Malware/Shifu.pcap 16\n",
      "./datasets/pcap/USTC-TFC2016/Malware/Nsis-ay.pcap 17\n",
      "./datasets/pcap/USTC-TFC2016/Malware/Htbot.pcap 18\n",
      "./datasets/pcap/USTC-TFC2016/Malware/Tinba.pcap 19\n"
     ]
    }
   ],
   "execution_count": 31
  },
  {
   "metadata": {
    "ExecuteTime": {
     "end_time": "2025-01-29T09:46:33.534106Z",
     "start_time": "2025-01-29T09:46:32.856382Z"
    }
   },
   "cell_type": "code",
   "source": [
    "import multiprocessing\n",
    "from concurrent.futures import ProcessPoolExecutor, as_completed\n",
    "from tqdm import tqdm\n",
    "from flowcontainer.extractor import extract\n",
    "\n",
    "# 你的数据\n",
    "x, y = [], []\n",
    "\n",
    "# 你的处理函数\n",
    "def process_address(address, label):\n",
    "    feature_result = extract(address, filter='tcp or udp', extension=['tls.record.content_type', 'tls.record.opaque_type', 'tls.handshake.type'])\n",
    "    flow_lengths = []\n",
    "    for key, value in feature_result.items():\n",
    "        flow_lengths.extend(value.ip_lengths)\n",
    "    # if len(flow_lengths) < 30:\n",
    "    #     return None  # 过滤掉不符合条件的数据\n",
    "    return flow_lengths[:30], label\n",
    "\n",
    "# 使用进程池进行并行计算\n",
    "num_workers = min(multiprocessing.cpu_count(), len(all_address))  # 限制最大线程数\n",
    "with ProcessPoolExecutor(max_workers=num_workers) as executor:\n",
    "    # 提交任务\n",
    "    future_to_index = {executor.submit(process_address, all_address[i], all_label[i]): i for i in range(len(all_address))}\n",
    "    # 使用 tqdm 进度条，遍历完成的任务\n",
    "    results = []\n",
    "    for future in tqdm(as_completed(future_to_index), total=len(all_address)):\n",
    "        result = future.result()\n",
    "        if result is not None:\n",
    "            results.append(result)"
   ],
   "id": "5414a46220840d45",
   "outputs": [
    {
     "name": "stderr",
     "output_type": "stream",
     "text": [
      "100%|██████████| 10/10 [00:00<00:00, 33.35it/s]\n"
     ]
    }
   ],
   "execution_count": 47
  },
  {
   "metadata": {
    "ExecuteTime": {
     "end_time": "2025-01-29T09:46:36.401056Z",
     "start_time": "2025-01-29T09:46:36.399001Z"
    }
   },
   "cell_type": "code",
   "source": "a, b = zip(*results)",
   "id": "4654f8fb24bf1d55",
   "outputs": [],
   "execution_count": 48
  },
  {
   "metadata": {
    "ExecuteTime": {
     "end_time": "2025-01-30T02:53:05.608784Z",
     "start_time": "2025-01-30T02:53:05.605816Z"
    }
   },
   "cell_type": "code",
   "source": [
    "import os\n",
    "def get_medboit():\n",
    "    all_address, all_label = [], []\n",
    "    benign_address = [item for item in os.listdir('./datasets/pcap/Medboit') if 'pcap' in item]\n",
    "    cnt = 1\n",
    "    for i in range(len(benign_address)):\n",
    "        benign_address[i] = './datasets/pcap/Medboit/' + benign_address[i]\n",
    "        all_address.append(benign_address[i])\n",
    "        if 'leg' in benign_address[i]:\n",
    "            all_label.append(0)\n",
    "        else:\n",
    "            all_label.append(cnt)\n",
    "            cnt += 1\n",
    "\n",
    "    for i in range(len(all_address)):\n",
    "        print(all_address[i], all_label[i])\n",
    "    return all_address, all_label\n",
    "all_address, all_label = get_medboit()"
   ],
   "id": "b6baaaad344ce9bf",
   "outputs": [
    {
     "name": "stdout",
     "output_type": "stream",
     "text": [
      "./datasets/pcap/Medboit/mirai_mal_CC_all.pcap 1\n",
      "./datasets/pcap/Medboit/bashlite_mal_CC_all.pcap 2\n",
      "./datasets/pcap/Medboit/torii_leg.pcap 0\n",
      "./datasets/pcap/Medboit/bashlite_leg.pcap 0\n",
      "./datasets/pcap/Medboit/bashlite_mal_spread_all.pcap 3\n",
      "./datasets/pcap/Medboit/torii_mal_all.pcap 4\n",
      "./datasets/pcap/Medboit/mirai_leg.pcap 0\n",
      "./datasets/pcap/Medboit/mirai_mal_spread_all.pcap 5\n"
     ]
    }
   ],
   "execution_count": 12
  },
  {
   "metadata": {
    "ExecuteTime": {
     "end_time": "2025-01-29T09:04:10.301339Z",
     "start_time": "2025-01-29T09:04:10.299277Z"
    }
   },
   "cell_type": "code",
   "source": "",
   "id": "366992e56e718da6",
   "outputs": [],
   "execution_count": 28
  },
  {
   "metadata": {
    "ExecuteTime": {
     "end_time": "2025-01-29T09:04:12.097609Z",
     "start_time": "2025-01-29T09:04:12.096149Z"
    }
   },
   "cell_type": "code",
   "source": "",
   "id": "3b2b98b15cf73838",
   "outputs": [],
   "execution_count": 29
  },
  {
   "metadata": {},
   "cell_type": "code",
   "outputs": [],
   "execution_count": null,
   "source": "",
   "id": "bba7b0d0a293bbc9"
  }
 ],
 "metadata": {
  "kernelspec": {
   "display_name": "Python 3",
   "language": "python",
   "name": "python3"
  },
  "language_info": {
   "codemirror_mode": {
    "name": "ipython",
    "version": 2
   },
   "file_extension": ".py",
   "mimetype": "text/x-python",
   "name": "python",
   "nbconvert_exporter": "python",
   "pygments_lexer": "ipython2",
   "version": "2.7.6"
  }
 },
 "nbformat": 4,
 "nbformat_minor": 5
}
