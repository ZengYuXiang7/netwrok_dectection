{
 "cells": [
  {
   "metadata": {
    "ExecuteTime": {
     "end_time": "2025-01-29T05:31:17.469048Z",
     "start_time": "2025-01-29T05:31:17.433028Z"
    }
   },
   "cell_type": "code",
   "source": [
    "import pickle\n",
    "import os\n",
    "import time\n",
    "\n",
    "from docutils.nodes import container\n",
    "\n",
    "df = pickle.load(open(os.path.join('./datasets/flow/Medboit_all_seq_30_2.pickle'), 'rb'))\n",
    "df.shape"
   ],
   "id": "e56b2ec0927d7be7",
   "outputs": [
    {
     "ename": "FileNotFoundError",
     "evalue": "[Errno 2] No such file or directory: './datasets/flow/Medboit_all_seq_30_2.pickle'",
     "output_type": "error",
     "traceback": [
      "\u001B[0;31m---------------------------------------------------------------------------\u001B[0m",
      "\u001B[0;31mFileNotFoundError\u001B[0m                         Traceback (most recent call last)",
      "Cell \u001B[0;32mIn[92], line 6\u001B[0m\n\u001B[1;32m      2\u001B[0m \u001B[38;5;28;01mimport\u001B[39;00m \u001B[38;5;21;01mos\u001B[39;00m\n\u001B[1;32m      4\u001B[0m \u001B[38;5;28;01mfrom\u001B[39;00m \u001B[38;5;21;01mdocutils\u001B[39;00m\u001B[38;5;21;01m.\u001B[39;00m\u001B[38;5;21;01mnodes\u001B[39;00m \u001B[38;5;28;01mimport\u001B[39;00m container\n\u001B[0;32m----> 6\u001B[0m df \u001B[38;5;241m=\u001B[39m pickle\u001B[38;5;241m.\u001B[39mload(\u001B[38;5;28mopen\u001B[39m(os\u001B[38;5;241m.\u001B[39mpath\u001B[38;5;241m.\u001B[39mjoin(\u001B[38;5;124m'\u001B[39m\u001B[38;5;124m./datasets/flow/Medboit_all_seq_30_2.pickle\u001B[39m\u001B[38;5;124m'\u001B[39m), \u001B[38;5;124m'\u001B[39m\u001B[38;5;124mrb\u001B[39m\u001B[38;5;124m'\u001B[39m))\n\u001B[1;32m      7\u001B[0m df\u001B[38;5;241m.\u001B[39mshape\n",
      "File \u001B[0;32m~/anaconda3/lib/python3.12/site-packages/IPython/core/interactiveshell.py:324\u001B[0m, in \u001B[0;36m_modified_open\u001B[0;34m(file, *args, **kwargs)\u001B[0m\n\u001B[1;32m    317\u001B[0m \u001B[38;5;28;01mif\u001B[39;00m file \u001B[38;5;129;01min\u001B[39;00m {\u001B[38;5;241m0\u001B[39m, \u001B[38;5;241m1\u001B[39m, \u001B[38;5;241m2\u001B[39m}:\n\u001B[1;32m    318\u001B[0m     \u001B[38;5;28;01mraise\u001B[39;00m \u001B[38;5;167;01mValueError\u001B[39;00m(\n\u001B[1;32m    319\u001B[0m         \u001B[38;5;124mf\u001B[39m\u001B[38;5;124m\"\u001B[39m\u001B[38;5;124mIPython won\u001B[39m\u001B[38;5;124m'\u001B[39m\u001B[38;5;124mt let you open fd=\u001B[39m\u001B[38;5;132;01m{\u001B[39;00mfile\u001B[38;5;132;01m}\u001B[39;00m\u001B[38;5;124m by default \u001B[39m\u001B[38;5;124m\"\u001B[39m\n\u001B[1;32m    320\u001B[0m         \u001B[38;5;124m\"\u001B[39m\u001B[38;5;124mas it is likely to crash IPython. If you know what you are doing, \u001B[39m\u001B[38;5;124m\"\u001B[39m\n\u001B[1;32m    321\u001B[0m         \u001B[38;5;124m\"\u001B[39m\u001B[38;5;124myou can use builtins\u001B[39m\u001B[38;5;124m'\u001B[39m\u001B[38;5;124m open.\u001B[39m\u001B[38;5;124m\"\u001B[39m\n\u001B[1;32m    322\u001B[0m     )\n\u001B[0;32m--> 324\u001B[0m \u001B[38;5;28;01mreturn\u001B[39;00m io_open(file, \u001B[38;5;241m*\u001B[39margs, \u001B[38;5;241m*\u001B[39m\u001B[38;5;241m*\u001B[39mkwargs)\n",
      "\u001B[0;31mFileNotFoundError\u001B[0m: [Errno 2] No such file or directory: './datasets/flow/Medboit_all_seq_30_2.pickle'"
     ]
    }
   ],
   "execution_count": 92
  },
  {
   "metadata": {
    "ExecuteTime": {
     "end_time": "2025-01-31T07:33:20.942675Z",
     "start_time": "2025-01-31T07:24:20.062020Z"
    }
   },
   "cell_type": "code",
   "source": [
    "from data_load.get_iot import get_iot\n",
    "from flowcontainer.extractor import extract\n",
    "from tqdm import *\n",
    "all_address, all_label = get_iot()\n",
    "ans = 0\n",
    "for i in trange(len(all_address)):\n",
    "    result = extract(all_address[i], filter='tcp or udp')\n",
    "    ans += len(result)\n",
    "ans"
   ],
   "id": "c5560c38686bf253",
   "outputs": [
    {
     "name": "stderr",
     "output_type": "stream",
     "text": [
      "100%|██████████| 21/21 [09:00<00:00, 25.75s/it]\n"
     ]
    },
    {
     "data": {
      "text/plain": [
       "256849"
      ]
     },
     "execution_count": 2,
     "metadata": {},
     "output_type": "execute_result"
    }
   ],
   "execution_count": 2
  },
  {
   "metadata": {
    "ExecuteTime": {
     "end_time": "2025-01-31T09:22:53.468170Z",
     "start_time": "2025-01-31T09:21:45.294430Z"
    }
   },
   "cell_type": "code",
   "source": [
    "from data_load.get_ustctfc import get_ustctfc\n",
    "all_address, all_label = get_ustctfc()\n",
    "ans = 0\n",
    "for i in trange(len(all_address)):\n",
    "    result = extract(all_address[i], filter='tcp or udp')\n",
    "    ans += len(result)\n",
    "ans"
   ],
   "id": "17fb65f54a1bb04c",
   "outputs": [
    {
     "name": "stdout",
     "output_type": "stream",
     "text": [
      "./datasets/pcap/USTC-TFC2016/Benign/MySQL.pcap 0\n",
      "./datasets/pcap/USTC-TFC2016/Benign/FTP.pcap 1\n",
      "./datasets/pcap/USTC-TFC2016/Benign/BitTorrent.pcap 2\n",
      "./datasets/pcap/USTC-TFC2016/Benign/Skype.pcap 3\n",
      "./datasets/pcap/USTC-TFC2016/Benign/Gmail.pcap 4\n",
      "./datasets/pcap/USTC-TFC2016/Benign/Facetime.pcap 5\n",
      "./datasets/pcap/USTC-TFC2016/Benign/Outlook.pcap 6\n",
      "./datasets/pcap/USTC-TFC2016/Benign/WorldOfWarcraft.pcap 7\n",
      "./datasets/pcap/USTC-TFC2016/Malware/Geodo.pcap 8\n",
      "./datasets/pcap/USTC-TFC2016/Malware/Cridex.pcap 9\n",
      "./datasets/pcap/USTC-TFC2016/Malware/Miuref.pcap 10\n",
      "./datasets/pcap/USTC-TFC2016/Malware/Virut.pcap 11\n",
      "./datasets/pcap/USTC-TFC2016/Malware/Neris.pcap 12\n",
      "./datasets/pcap/USTC-TFC2016/Malware/Zeus.pcap 13\n",
      "./datasets/pcap/USTC-TFC2016/Malware/Shifu.pcap 14\n",
      "./datasets/pcap/USTC-TFC2016/Malware/Nsis-ay.pcap 15\n",
      "./datasets/pcap/USTC-TFC2016/Malware/Htbot.pcap 16\n",
      "./datasets/pcap/USTC-TFC2016/Malware/Tinba.pcap 17\n"
     ]
    },
    {
     "name": "stderr",
     "output_type": "stream",
     "text": [
      " 61%|██████    | 11/18 [00:33<00:24,  3.47s/it]/home/rtx4090/anaconda3/lib/python3.12/site-packages/flowcontainer/reader.py:218: UserWarning: Error reading file: ' ** (tshark:3240416) 17:22:18.742066 [Epan WARNING] -- Dissector bug, protocol TLS, in packet 1746: ./epan/dissectors/packet-tls-utils.c:6412: failed assertion \"offset <= offset_end\"\n",
      " ** (tshark:3240416) 17:22:19.506816 [Epan WARNING] -- Dissector bug, protocol TLS, in packet 154811: ./epan/dissectors/packet-tls-utils.c:6412: failed assertion \"offset <= offset_end\"\n",
      " ** (tshark:3240416) 17:22:20.288737 [Epan WARNING] -- Dissector bug, protocol TLS, in packet 1746: ./epan/dissectors/packet-tls-utils.c:6412: failed assertion \"offset <= offset_end\"\n",
      " ** (tshark:3240416) 17:22:22.287327 [Epan WARNING] -- Dissector bug, protocol TLS, in packet 154811: ./epan/dissectors/packet-tls-utils.c:6412: failed assertion \"offset <= offset_end\"\n",
      "'\n",
      "  warnings.warn(\"Error reading file: '{}'\".format(\n",
      " 67%|██████▋   | 12/18 [00:40<00:27,  4.59s/it]/home/rtx4090/anaconda3/lib/python3.12/site-packages/flowcontainer/reader.py:218: UserWarning: Error reading file: ' ** (tshark:3240805) 17:22:27.020160 [Epan WARNING] -- Dissector bug, protocol TLS, in packet 272768: ./epan/dissectors/packet-tls-utils.c:6412: failed assertion \"offset <= offset_end\"\n",
      "'\n",
      "  warnings.warn(\"Error reading file: '{}'\".format(\n",
      "100%|██████████| 18/18 [01:08<00:00,  3.79s/it]\n"
     ]
    },
    {
     "data": {
      "text/plain": [
       "297359"
      ]
     },
     "execution_count": 4,
     "metadata": {},
     "output_type": "execute_result"
    }
   ],
   "execution_count": 4
  },
  {
   "metadata": {
    "ExecuteTime": {
     "end_time": "2025-01-31T09:57:01.757084Z",
     "start_time": "2025-01-31T09:44:00.150184Z"
    }
   },
   "cell_type": "code",
   "source": [
    "from data_load.get_medboit import get_medboit\n",
    "all_address, all_label = get_medboit()\n",
    "ans = 0\n",
    "for i in trange(len(all_address)):\n",
    "    result = extract(all_address[i], filter='tcp or udp')\n",
    "    ans += len(result)\n",
    "ans"
   ],
   "id": "a491845fc1980c40",
   "outputs": [
    {
     "name": "stdout",
     "output_type": "stream",
     "text": [
      "./datasets/pcap/Medboit/mirai_mal_CC_all.pcap 1\n",
      "./datasets/pcap/Medboit/bashlite_mal_CC_all.pcap 2\n",
      "./datasets/pcap/Medboit/torii_leg.pcap 0\n",
      "./datasets/pcap/Medboit/bashlite_leg.pcap 0\n",
      "./datasets/pcap/Medboit/bashlite_mal_spread_all.pcap 3\n",
      "./datasets/pcap/Medboit/torii_mal_all.pcap 4\n",
      "./datasets/pcap/Medboit/mirai_leg.pcap 0\n",
      "./datasets/pcap/Medboit/mirai_mal_spread_all.pcap 5\n"
     ]
    },
    {
     "name": "stderr",
     "output_type": "stream",
     "text": [
      "100%|██████████| 8/8 [13:01<00:00, 97.70s/it] \n"
     ]
    },
    {
     "data": {
      "text/plain": [
       "296805"
      ]
     },
     "execution_count": 9,
     "metadata": {},
     "output_type": "execute_result"
    }
   ],
   "execution_count": 9
  },
  {
   "metadata": {
    "ExecuteTime": {
     "end_time": "2025-01-31T09:36:07.707211Z",
     "start_time": "2025-01-31T09:36:07.705869Z"
    }
   },
   "cell_type": "code",
   "source": "",
   "id": "7168b6c3b34bb040",
   "outputs": [],
   "execution_count": null
  },
  {
   "metadata": {
    "ExecuteTime": {
     "end_time": "2025-01-31T09:36:07.721869Z",
     "start_time": "2025-01-31T09:36:07.720657Z"
    }
   },
   "cell_type": "code",
   "source": "",
   "id": "19b0eee90e73f223",
   "outputs": [],
   "execution_count": null
  },
  {
   "metadata": {
    "ExecuteTime": {
     "end_time": "2025-01-31T09:36:07.763542Z",
     "start_time": "2025-01-31T09:36:07.762377Z"
    }
   },
   "cell_type": "code",
   "source": "",
   "id": "e0f5ce2f0588a323",
   "outputs": [],
   "execution_count": null
  },
  {
   "metadata": {
    "ExecuteTime": {
     "end_time": "2025-01-31T09:36:07.807679Z",
     "start_time": "2025-01-31T09:36:07.806042Z"
    }
   },
   "cell_type": "code",
   "source": "# ",
   "id": "ed9594290d598d32",
   "outputs": [],
   "execution_count": 6
  },
  {
   "metadata": {
    "ExecuteTime": {
     "end_time": "2025-01-31T09:36:07.852080Z",
     "start_time": "2025-01-31T09:36:07.850033Z"
    }
   },
   "cell_type": "code",
   "source": [
    "import subprocess\n",
    "import os \n",
    "def split_pcap_by_command(dataset, src_address, label):\n",
    "    dst_address = f'./datasets/split_cap/{dataset}/{src_address.split('/')[-1].split('.')[0]}'\n",
    "    cmd = f\"mono SplitCap.exe -r {src_address} -s session -o '{dst_address}'\" \n",
    "    # print(cmd)\n",
    "    # 执行命令\n",
    "    subprocess.run(cmd, shell=True, check=True)\n",
    "    pcap_name = src_address.split('/')[-1].split('.')[0]\n",
    "    x = os.listdir(f'./datasets/split_cap/{dataset}/{pcap_name}')\n",
    "    y = []\n",
    "    for i in range(len(x)):\n",
    "        x[i] = f'./datasets/split_cap/{dataset}/{pcap_name}/' + x[i]\n",
    "        y.append(label)\n",
    "    return x, y"
   ],
   "id": "f5ac1ce02d312b6e",
   "outputs": [],
   "execution_count": 7
  },
  {
   "metadata": {
    "ExecuteTime": {
     "end_time": "2025-01-31T09:36:07.895336Z",
     "start_time": "2025-01-31T09:36:07.894045Z"
    }
   },
   "cell_type": "code",
   "source": "",
   "id": "56c8485f5023486",
   "outputs": [],
   "execution_count": null
  },
  {
   "metadata": {
    "ExecuteTime": {
     "end_time": "2025-01-31T09:36:07.939105Z",
     "start_time": "2025-01-31T09:36:07.937987Z"
    }
   },
   "cell_type": "code",
   "source": "",
   "id": "c13eb6cfcb1a2e99",
   "outputs": [],
   "execution_count": null
  },
  {
   "metadata": {
    "ExecuteTime": {
     "end_time": "2025-01-31T09:36:07.983615Z",
     "start_time": "2025-01-31T09:36:07.982424Z"
    }
   },
   "cell_type": "code",
   "source": "",
   "id": "161b54bea97d0b23",
   "outputs": [],
   "execution_count": null
  },
  {
   "metadata": {
    "ExecuteTime": {
     "end_time": "2025-01-31T09:36:08.027232Z",
     "start_time": "2025-01-31T09:36:08.026060Z"
    }
   },
   "cell_type": "code",
   "source": "",
   "id": "131f4031e0c76049",
   "outputs": [],
   "execution_count": null
  },
  {
   "metadata": {
    "ExecuteTime": {
     "end_time": "2025-01-31T09:36:08.070991Z",
     "start_time": "2025-01-31T09:36:08.069803Z"
    }
   },
   "cell_type": "code",
   "source": "",
   "id": "c44d1f1262b50299",
   "outputs": [],
   "execution_count": null
  },
  {
   "metadata": {
    "ExecuteTime": {
     "end_time": "2025-01-31T09:36:08.115341Z",
     "start_time": "2025-01-31T09:36:08.114133Z"
    }
   },
   "cell_type": "code",
   "source": "",
   "id": "2050dec94fdf8f8e",
   "outputs": [],
   "execution_count": null
  },
  {
   "metadata": {
    "ExecuteTime": {
     "end_time": "2025-01-31T09:36:08.160411Z",
     "start_time": "2025-01-31T09:36:08.159116Z"
    }
   },
   "cell_type": "code",
   "source": "",
   "id": "c2e28bef893e46e4",
   "outputs": [],
   "execution_count": null
  },
  {
   "metadata": {
    "ExecuteTime": {
     "end_time": "2025-01-31T09:36:08.204103Z",
     "start_time": "2025-01-31T09:36:08.202891Z"
    }
   },
   "cell_type": "code",
   "source": "",
   "id": "6f84de0753a023e",
   "outputs": [],
   "execution_count": null
  },
  {
   "metadata": {
    "ExecuteTime": {
     "end_time": "2025-01-31T09:36:08.247968Z",
     "start_time": "2025-01-31T09:36:08.246474Z"
    }
   },
   "cell_type": "code",
   "source": "",
   "id": "bc4088cb62c19829",
   "outputs": [],
   "execution_count": null
  },
  {
   "metadata": {
    "ExecuteTime": {
     "end_time": "2025-01-31T09:36:08.293570Z",
     "start_time": "2025-01-31T09:36:08.292160Z"
    }
   },
   "cell_type": "code",
   "source": "",
   "id": "c85c27cf82bc002a",
   "outputs": [],
   "execution_count": null
  },
  {
   "metadata": {
    "ExecuteTime": {
     "end_time": "2025-01-31T09:44:00.143916Z",
     "start_time": "2025-01-31T09:36:08.337537Z"
    }
   },
   "cell_type": "code",
   "source": [
    "import multiprocessing\n",
    "from concurrent.futures import ProcessPoolExecutor, as_completed\n",
    "from tqdm import tqdm\n",
    "from flowcontainer.extractor import extract\n",
    "\n",
    "# 你的数据\n",
    "x, y = [], []\n",
    "\n",
    "# 你的处理函数\n",
    "def process_address(address, label):\n",
    "    feature_result = extract(address, filter='tcp or udp', extension=['tls.record.content_type', 'tls.record.opaque_type', 'tls.handshake.type'])\n",
    "    flow_lengths = []\n",
    "    for key, value in feature_result.items():\n",
    "        flow_lengths.extend(value.ip_lengths)\n",
    "    # if len(flow_lengths) < 30:\n",
    "    #     return None  # 过滤掉不符合条件的数据\n",
    "    return flow_lengths[:30], label\n",
    "\n",
    "# 使用进程池进行并行计算\n",
    "num_workers = min(multiprocessing.cpu_count(), len(all_address))  # 限制最大线程数\n",
    "with ProcessPoolExecutor(max_workers=num_workers) as executor:\n",
    "    # 提交任务\n",
    "    future_to_index = {executor.submit(process_address, all_address[i], all_label[i]): i for i in range(len(all_address))}\n",
    "    # 使用 tqdm 进度条，遍历完成的任务\n",
    "    results = []\n",
    "    for future in tqdm(as_completed(future_to_index), total=len(all_address)):\n",
    "        result = future.result()\n",
    "        if result is not None:\n",
    "            results.append(result)"
   ],
   "id": "5414a46220840d45",
   "outputs": [
    {
     "name": "stderr",
     "output_type": "stream",
     "text": [
      "100%|██████████| 8/8 [07:51<00:00, 58.92s/it] \n"
     ]
    }
   ],
   "execution_count": 8
  },
  {
   "metadata": {
    "ExecuteTime": {
     "end_time": "2025-01-29T09:46:36.401056Z",
     "start_time": "2025-01-29T09:46:36.399001Z"
    }
   },
   "cell_type": "code",
   "source": "a, b = zip(*results)",
   "id": "4654f8fb24bf1d55",
   "outputs": [],
   "execution_count": 48
  },
  {
   "metadata": {
    "ExecuteTime": {
     "end_time": "2025-01-30T02:53:05.608784Z",
     "start_time": "2025-01-30T02:53:05.605816Z"
    }
   },
   "cell_type": "code",
   "source": [
    "import os\n",
    "def get_medboit():\n",
    "    all_address, all_label = [], []\n",
    "    benign_address = [item for item in os.listdir('./datasets/pcap/Medboit') if 'pcap' in item]\n",
    "    cnt = 1\n",
    "    for i in range(len(benign_address)):\n",
    "        benign_address[i] = './datasets/pcap/Medboit/' + benign_address[i]\n",
    "        all_address.append(benign_address[i])\n",
    "        if 'leg' in benign_address[i]:\n",
    "            all_label.append(0)\n",
    "        else:\n",
    "            all_label.append(cnt)\n",
    "            cnt += 1\n",
    "\n",
    "    for i in range(len(all_address)):\n",
    "        print(all_address[i], all_label[i])\n",
    "    return all_address, all_label\n",
    "all_address, all_label = get_medboit()"
   ],
   "id": "b6baaaad344ce9bf",
   "outputs": [
    {
     "name": "stdout",
     "output_type": "stream",
     "text": [
      "./datasets/pcap/Medboit/mirai_mal_CC_all.pcap 1\n",
      "./datasets/pcap/Medboit/bashlite_mal_CC_all.pcap 2\n",
      "./datasets/pcap/Medboit/torii_leg.pcap 0\n",
      "./datasets/pcap/Medboit/bashlite_leg.pcap 0\n",
      "./datasets/pcap/Medboit/bashlite_mal_spread_all.pcap 3\n",
      "./datasets/pcap/Medboit/torii_mal_all.pcap 4\n",
      "./datasets/pcap/Medboit/mirai_leg.pcap 0\n",
      "./datasets/pcap/Medboit/mirai_mal_spread_all.pcap 5\n"
     ]
    }
   ],
   "execution_count": 12
  },
  {
   "metadata": {
    "ExecuteTime": {
     "end_time": "2025-01-29T09:04:10.301339Z",
     "start_time": "2025-01-29T09:04:10.299277Z"
    }
   },
   "cell_type": "code",
   "source": "",
   "id": "366992e56e718da6",
   "outputs": [],
   "execution_count": 28
  },
  {
   "metadata": {
    "ExecuteTime": {
     "end_time": "2025-01-29T09:04:12.097609Z",
     "start_time": "2025-01-29T09:04:12.096149Z"
    }
   },
   "cell_type": "code",
   "source": "",
   "id": "3b2b98b15cf73838",
   "outputs": [],
   "execution_count": 29
  },
  {
   "metadata": {},
   "cell_type": "code",
   "outputs": [],
   "execution_count": null,
   "source": "",
   "id": "bba7b0d0a293bbc9"
  }
 ],
 "metadata": {
  "kernelspec": {
   "display_name": "Python 3",
   "language": "python",
   "name": "python3"
  },
  "language_info": {
   "codemirror_mode": {
    "name": "ipython",
    "version": 2
   },
   "file_extension": ".py",
   "mimetype": "text/x-python",
   "name": "python",
   "nbconvert_exporter": "python",
   "pygments_lexer": "ipython2",
   "version": "2.7.6"
  }
 },
 "nbformat": 4,
 "nbformat_minor": 5
}
