{
 "cells": [
  {
   "metadata": {
    "ExecuteTime": {
     "end_time": "2025-01-07T14:19:17.507171Z",
     "start_time": "2025-01-07T14:19:16.589312Z"
    }
   },
   "cell_type": "code",
   "source": [
    "import os\n",
    "import pandas as pd \n",
    "import pickle\n",
    "from data_generator import csv_to_flow\n",
    "from tqdm import *\n",
    "\n",
    "dataset = 'IoT'\n",
    "def get_all_flow(dataset):\n",
    "    datasets_path = os.path.join('./datasets', 'csv', dataset)\n",
    "    all_files = os.listdir(datasets_path)\n",
    "    all_csv_data = []\n",
    "    for i in range(len(all_files)):\n",
    "        df = pd.read_csv(os.path.join(datasets_path, all_files[i]))\n",
    "        all_csv_data.append(df)\n",
    "    all_data = []\n",
    "    time_interval = 10\n",
    "    for i in trange(len(all_csv_data)):\n",
    "        all_data.append(csv_to_flow(all_csv_data[i], time_interval))\n",
    "    os.makedirs('./datasets/flow')\n",
    "    pickle.dump(all_data, open(f'./datasets/flow/{dataset}.pickle', 'wb'))\n",
    "all_data = get_all_flow(dataset)"
   ],
   "id": "ee9873a53c62c11c",
   "outputs": [],
   "execution_count": 1
  },
  {
   "metadata": {
    "ExecuteTime": {
     "end_time": "2025-01-07T15:13:27.344371Z",
     "start_time": "2025-01-07T15:13:15.515414Z"
    }
   },
   "cell_type": "code",
   "source": [
    "all_x, all_y = [], []\n",
    "for i in range(len(all_data)):\n",
    "    for key, value in tqdm(all_data[i].items()):\n",
    "        # print(value)\n",
    "        this_flow = []\n",
    "        for item in value:\n",
    "            # print(item[0], item[-1])\n",
    "            this_flow.append([item[0], item[-1]])\n",
    "        # print(this_flow)\n",
    "        all_x.append(this_flow)\n",
    "        all_y.append(i)\n",
    "        # break \n",
    "    # break\n",
    "    "
   ],
   "id": "13871be249809f67",
   "outputs": [
    {
     "name": "stderr",
     "output_type": "stream",
     "text": [
      "100%|██████████| 10461/10461 [00:00<00:00, 75603.71it/s]\n",
      "100%|██████████| 7416/7416 [00:00<00:00, 154809.57it/s]\n",
      "100%|██████████| 6854/6854 [00:00<00:00, 511371.29it/s]\n",
      "100%|██████████| 23502/23502 [00:00<00:00, 36369.00it/s]\n",
      "100%|██████████| 31233/31233 [00:00<00:00, 188866.04it/s]\n",
      "100%|██████████| 17847/17847 [00:00<00:00, 89462.14it/s]\n",
      "100%|██████████| 17220/17220 [00:00<00:00, 107318.22it/s]\n",
      "100%|██████████| 7453/7453 [00:00<00:00, 279275.53it/s]\n",
      "100%|██████████| 24316/24316 [00:00<00:00, 79580.06it/s]\n",
      "100%|██████████| 11799/11799 [00:00<00:00, 159018.40it/s]\n",
      "100%|██████████| 12402/12402 [00:03<00:00, 3955.84it/s]\n",
      "100%|██████████| 16031/16031 [00:00<00:00, 249696.00it/s]\n",
      "100%|██████████| 28284/28284 [00:00<00:00, 64441.18it/s]\n",
      "100%|██████████| 9383/9383 [00:00<00:00, 212819.14it/s]\n",
      "100%|██████████| 50039/50039 [00:04<00:00, 10903.31it/s]\n",
      "100%|██████████| 13450/13450 [00:00<00:00, 217948.64it/s]\n",
      "100%|██████████| 8410/8410 [00:00<00:00, 12101.78it/s]\n",
      "100%|██████████| 14741/14741 [00:00<00:00, 69871.18it/s]\n",
      "100%|██████████| 11531/11531 [00:00<00:00, 77560.57it/s]\n",
      "100%|██████████| 17438/17438 [00:00<00:00, 211187.87it/s]\n",
      "100%|██████████| 8380/8380 [00:00<00:00, 68697.53it/s]\n"
     ]
    }
   ],
   "execution_count": 38
  },
  {
   "metadata": {
    "ExecuteTime": {
     "end_time": "2025-01-07T15:27:34.131057Z",
     "start_time": "2025-01-07T15:27:34.128403Z"
    }
   },
   "cell_type": "code",
   "source": "len(all_x)",
   "id": "31ecbfc6307ca332",
   "outputs": [
    {
     "data": {
      "text/plain": [
       "348190"
      ]
     },
     "execution_count": 40,
     "metadata": {},
     "output_type": "execute_result"
    }
   ],
   "execution_count": 40
  },
  {
   "metadata": {
    "ExecuteTime": {
     "end_time": "2025-01-07T15:27:40.122183Z",
     "start_time": "2025-01-07T15:27:40.118764Z"
    }
   },
   "cell_type": "code",
   "source": "len(all_x[0])",
   "id": "c9cee5782ddcdd71",
   "outputs": [
    {
     "data": {
      "text/plain": [
       "29"
      ]
     },
     "execution_count": 42,
     "metadata": {},
     "output_type": "execute_result"
    }
   ],
   "execution_count": 42
  },
  {
   "metadata": {
    "ExecuteTime": {
     "end_time": "2025-01-07T15:27:43.494481Z",
     "start_time": "2025-01-07T15:27:43.490937Z"
    }
   },
   "cell_type": "code",
   "source": "len(all_x[1])",
   "id": "bef47042c318bc3c",
   "outputs": [
    {
     "data": {
      "text/plain": [
       "18"
      ]
     },
     "execution_count": 43,
     "metadata": {},
     "output_type": "execute_result"
    }
   ],
   "execution_count": 43
  },
  {
   "metadata": {
    "ExecuteTime": {
     "end_time": "2025-01-07T15:03:43.070906Z",
     "start_time": "2025-01-07T15:03:43.069071Z"
    }
   },
   "cell_type": "code",
   "source": "",
   "id": "8a5f7d84b9109e66",
   "outputs": [],
   "execution_count": 26
  },
  {
   "metadata": {
    "ExecuteTime": {
     "end_time": "2025-01-07T15:03:43.208683Z",
     "start_time": "2025-01-07T15:03:43.207005Z"
    }
   },
   "cell_type": "code",
   "source": "",
   "id": "87880e9f7938b5f4",
   "outputs": [],
   "execution_count": 26
  },
  {
   "metadata": {
    "ExecuteTime": {
     "end_time": "2025-01-07T15:03:43.389767Z",
     "start_time": "2025-01-07T15:03:43.387973Z"
    }
   },
   "cell_type": "code",
   "source": "",
   "id": "2729462eca2e5b98",
   "outputs": [],
   "execution_count": 26
  },
  {
   "metadata": {
    "ExecuteTime": {
     "end_time": "2025-01-07T15:03:43.537725Z",
     "start_time": "2025-01-07T15:03:43.536091Z"
    }
   },
   "cell_type": "code",
   "source": "",
   "id": "8cda400585d512ca",
   "outputs": [],
   "execution_count": 26
  },
  {
   "metadata": {},
   "cell_type": "code",
   "outputs": [],
   "execution_count": null,
   "source": "",
   "id": "27d16598d973b2e9"
  }
 ],
 "metadata": {
  "kernelspec": {
   "display_name": "Python 3",
   "language": "python",
   "name": "python3"
  },
  "language_info": {
   "codemirror_mode": {
    "name": "ipython",
    "version": 2
   },
   "file_extension": ".py",
   "mimetype": "text/x-python",
   "name": "python",
   "nbconvert_exporter": "python",
   "pygments_lexer": "ipython2",
   "version": "2.7.6"
  }
 },
 "nbformat": 4,
 "nbformat_minor": 5
}
