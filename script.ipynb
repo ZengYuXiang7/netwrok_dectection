{
 "cells": [
  {
   "metadata": {
    "ExecuteTime": {
     "end_time": "2025-01-08T03:24:10.170378Z",
     "start_time": "2025-01-08T03:24:04.488312Z"
    }
   },
   "cell_type": "code",
   "source": [
    "import pickle\n",
    "df = pickle.load(open(\"/Users/zengyuxiang/Documents/科研代码/Master/Network_Detect/datasets/flow/IoT_all_x.pickle\", \"rb\"))"
   ],
   "id": "ee9873a53c62c11c",
   "outputs": [],
   "execution_count": 23
  },
  {
   "metadata": {
    "ExecuteTime": {
     "end_time": "2025-01-08T03:24:10.241559Z",
     "start_time": "2025-01-08T03:24:10.171526Z"
    }
   },
   "cell_type": "code",
   "source": [
    "all_flow_length = []\n",
    "for i in range(len(df)):\n",
    "    all_flow_length.append(len(df[i]))"
   ],
   "id": "13871be249809f67",
   "outputs": [],
   "execution_count": 24
  },
  {
   "metadata": {
    "ExecuteTime": {
     "end_time": "2025-01-08T03:24:10.244Z",
     "start_time": "2025-01-08T03:24:10.242474Z"
    }
   },
   "cell_type": "code",
   "source": "",
   "id": "a982a5c2fda26430",
   "outputs": [],
   "execution_count": 24
  },
  {
   "metadata": {
    "ExecuteTime": {
     "end_time": "2025-01-08T03:24:12.727239Z",
     "start_time": "2025-01-08T03:24:10.245245Z"
    }
   },
   "cell_type": "code",
   "source": [
    "import numpy as np\n",
    "import matplotlib.pyplot as plt\n",
    "\n",
    "# Function to describe the data distribution\n",
    "def describe_data(data):\n",
    "    print(\"===== Data Distribution Description =====\")\n",
    "    print(f\"Number of Data Points: {len(data)}\")\n",
    "    print(f\"Mean: {np.mean(data):.2f}\")\n",
    "    print(f\"Standard Deviation: {np.std(data):.2f}\")\n",
    "    print(f\"Minimum Value: {np.min(data)}\")\n",
    "    print(f\"Maximum Value: {np.max(data)}\")\n",
    "    print(f\"Median: {np.median(data)}\")\n",
    "    print(f\"25th Percentile: {np.percentile(data, 25)}\")\n",
    "    print(f\"75th Percentile: {np.percentile(data, 75)}\")\n",
    "    print(\"========================================\")\n",
    "\n",
    "    # Visualization of the data distribution\n",
    "    plt.figure(figsize=(12, 6))\n",
    "\n",
    "    # Histogram\n",
    "    plt.subplot(1, 2, 1)\n",
    "    plt.hist(data, bins=10, color='skyblue', edgecolor='black', alpha=0.7)\n",
    "    plt.title(\"Histogram\")\n",
    "    plt.xlabel(\"Value\")\n",
    "    plt.ylabel(\"Frequency\")\n",
    "\n",
    "    # Box Plot\n",
    "    plt.subplot(1, 2, 2)\n",
    "    plt.boxplot(data, vert=False, patch_artist=True, boxprops=dict(facecolor='lightgreen', color='black'))\n",
    "    plt.title(\"Box Plot\")\n",
    "    plt.xlabel(\"Value\")\n",
    "\n",
    "    plt.tight_layout()\n",
    "    plt.show()\n",
    "\n",
    "# Call the function to describe data\n",
    "describe_data(all_flow_length)"
   ],
   "id": "31ecbfc6307ca332",
   "outputs": [
    {
     "name": "stdout",
     "output_type": "stream",
     "text": [
      "===== Data Distribution Description =====\n",
      "Number of Data Points: 344709\n",
      "Mean: 40.96\n",
      "Standard Deviation: 110.79\n",
      "Minimum Value: 0\n",
      "Maximum Value: 1320\n",
      "Median: 15.0\n",
      "25th Percentile: 4.0\n",
      "75th Percentile: 28.0\n",
      "========================================\n"
     ]
    },
    {
     "data": {
      "text/plain": [
       "<Figure size 1200x600 with 2 Axes>"
      ],
      "image/png": "[encoded data removed]"
     },
     "metadata": {},
     "output_type": "display_data"
    }
   ],
   "execution_count": 25
  },
  {
   "metadata": {
    "ExecuteTime": {
     "end_time": "2025-01-08T03:24:13.498779Z",
     "start_time": "2025-01-08T03:24:12.728173Z"
    }
   },
   "cell_type": "code",
   "source": [
    "for i in range(950, 1001):\n",
    "    print(f\"{i * 0.1:.1f}% 包序列，流的长度: {np.percentile(all_flow_length, i * 0.1)}\")"
   ],
   "id": "c9cee5782ddcdd71",
   "outputs": [
    {
     "name": "stdout",
     "output_type": "stream",
     "text": [
      "95.0% 包序列，流的长度: 157.0\n",
      "95.1% 包序列，流的长度: 161.0\n",
      "95.2% 包序列，流的长度: 166.0\n",
      "95.3% 包序列，流的长度: 172.0\n",
      "95.4% 包序列，流的长度: 179.0\n",
      "95.5% 包序列，流的长度: 190.0\n",
      "95.6% 包序列，流的长度: 202.0\n",
      "95.7% 包序列，流的长度: 210.0\n",
      "95.8% 包序列，流的长度: 219.0\n",
      "95.9% 包序列，流的长度: 225.0\n",
      "96.0% 包序列，流的长度: 230.0\n",
      "96.1% 包序列，流的长度: 236.0\n",
      "96.2% 包序列，流的长度: 244.0\n",
      "96.3% 包序列，流的长度: 257.0\n",
      "96.4% 包序列，流的长度: 267.0\n",
      "96.5% 包序列，流的长度: 272.0\n",
      "96.6% 包序列，流的长度: 279.0\n",
      "96.7% 包序列，流的长度: 293.0\n",
      "96.8% 包序列，流的长度: 312.0\n",
      "96.9% 包序列，流的长度: 336.0\n",
      "97.0% 包序列，流的长度: 350.0\n",
      "97.1% 包序列，流的长度: 365.0\n",
      "97.2% 包序列，流的长度: 381.0\n",
      "97.3% 包序列，流的长度: 393.0\n",
      "97.4% 包序列，流的长度: 398.0\n",
      "97.5% 包序列，流的长度: 402.0\n",
      "97.6% 包序列，流的长度: 406.0\n",
      "97.7% 包序列，流的长度: 411.0\n",
      "97.8% 包序列，流的长度: 421.0\n",
      "97.9% 包序列，流的长度: 432.0\n",
      "98.0% 包序列，流的长度: 438.0\n",
      "98.1% 包序列，流的长度: 443.0\n",
      "98.2% 包序列，流的长度: 453.0\n",
      "98.3% 包序列，流的长度: 473.0\n",
      "98.4% 包序列，流的长度: 487.0\n",
      "98.5% 包序列，流的长度: 501.0\n",
      "98.6% 包序列，流的长度: 521.0\n",
      "98.7% 包序列，流的长度: 547.0\n",
      "98.8% 包序列，流的长度: 568.0\n",
      "98.9% 包序列，流的长度: 599.0\n",
      "99.0% 包序列，流的长度: 636.0\n",
      "99.1% 包序列，流的长度: 671.6280000000261\n",
      "99.2% 包序列，流的长度: 705.0\n",
      "99.3% 包序列，流的长度: 729.0\n",
      "99.4% 包序列，流的长度: 755.0\n",
      "99.5% 包序列，流的长度: 797.0\n",
      "99.6% 包序列，流的长度: 841.0\n",
      "99.7% 包序列，流的长度: 910.0\n",
      "99.8% 包序列，流的长度: 1023.0\n",
      "99.9% 包序列，流的长度: 1148.0\n",
      "100.0% 包序列，流的长度: 1320.0\n"
     ]
    }
   ],
   "execution_count": 26
  },
  {
   "metadata": {
    "ExecuteTime": {
     "end_time": "2025-01-07T15:27:43.494481Z",
     "start_time": "2025-01-07T15:27:43.490937Z"
    }
   },
   "cell_type": "code",
   "source": "",
   "id": "bef47042c318bc3c",
   "outputs": [
    {
     "data": {
      "text/plain": [
       "18"
      ]
     },
     "execution_count": 43,
     "metadata": {},
     "output_type": "execute_result"
    }
   ],
   "execution_count": 43
  },
  {
   "metadata": {
    "ExecuteTime": {
     "end_time": "2025-01-12T14:32:28.279154Z",
     "start_time": "2025-01-12T14:32:28.277003Z"
    }
   },
   "cell_type": "code",
   "source": "[i + 1 for i in range(21)]",
   "id": "8a5f7d84b9109e66",
   "outputs": [
    {
     "data": {
      "text/plain": [
       "[1, 2, 3, 4, 5, 6, 7, 8, 9, 10, 11, 12, 13, 14, 15, 16, 17, 18, 19, 20, 21]"
      ]
     },
     "execution_count": 58,
     "metadata": {},
     "output_type": "execute_result"
    }
   ],
   "execution_count": 58
  },
  {
   "metadata": {
    "ExecuteTime": {
     "end_time": "2025-01-07T15:03:43.208683Z",
     "start_time": "2025-01-07T15:03:43.207005Z"
    }
   },
   "cell_type": "code",
   "source": "",
   "id": "87880e9f7938b5f4",
   "outputs": [],
   "execution_count": 26
  },
  {
   "metadata": {
    "ExecuteTime": {
     "end_time": "2025-01-07T15:03:43.389767Z",
     "start_time": "2025-01-07T15:03:43.387973Z"
    }
   },
   "cell_type": "code",
   "source": "",
   "id": "2729462eca2e5b98",
   "outputs": [],
   "execution_count": 26
  },
  {
   "metadata": {
    "ExecuteTime": {
     "end_time": "2025-01-07T15:03:43.537725Z",
     "start_time": "2025-01-07T15:03:43.536091Z"
    }
   },
   "cell_type": "code",
   "source": "",
   "id": "8cda400585d512ca",
   "outputs": [],
   "execution_count": 26
  },
  {
   "metadata": {},
   "cell_type": "code",
   "outputs": [],
   "execution_count": null,
   "source": "",
   "id": "27d16598d973b2e9"
  }
 ],
 "metadata": {
  "kernelspec": {
   "display_name": "Python 3",
   "language": "python",
   "name": "python3"
  },
  "language_info": {
   "codemirror_mode": {
    "name": "ipython",
    "version": 2
   },
   "file_extension": ".py",
   "mimetype": "text/x-python",
   "name": "python",
   "nbconvert_exporter": "python",
   "pygments_lexer": "ipython2",
   "version": "2.7.6"
  }
 },
 "nbformat": 4,
 "nbformat_minor": 5
}
