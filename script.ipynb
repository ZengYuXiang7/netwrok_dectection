{
 "cells": [
  {
   "metadata": {
    "ExecuteTime": {
     "end_time": "2024-11-18T13:44:52.492248Z",
     "start_time": "2024-11-18T13:44:52.474807Z"
    }
   },
   "cell_type": "code",
   "source": [
    "# Experiment Settings, logger, plotter\n",
    "from utils.config import get_config\n",
    "from utils.logger import Logger\n",
    "from utils.plotter import MetricsPlotter\n",
    "from utils.utils import set_settings, set_seed\n",
    "config = get_config()"
   ],
   "id": "d00be3a129e7213",
   "outputs": [],
   "execution_count": 56
  },
  {
   "metadata": {
    "ExecuteTime": {
     "end_time": "2024-11-18T13:44:52.749171Z",
     "start_time": "2024-11-18T13:44:52.744683Z"
    }
   },
   "cell_type": "code",
   "source": [
    "config.__dict__['rank'] = 1\n",
    "config"
   ],
   "id": "a22df4d7dbbf7ffd",
   "outputs": [
    {
     "data": {
      "text/plain": [
       "TestConfig(classification=True, Ablation=0, bs=128, lr=0.001, decay=0.0001, loss_func='L1Loss', optim='AdamW', path='./datasets/', dataset='cpu', train_size=500, density=0.8, eval_set=False, logger='None', model='ours', rank=1, retrain=True, seed=0, rounds=5, epochs=250, patience=45, verbose=1, device='mps', debug=True, experiment=False, program_test=False, record=True)"
      ]
     },
     "execution_count": 57,
     "metadata": {},
     "output_type": "execute_result"
    }
   ],
   "execution_count": 57
  },
  {
   "metadata": {
    "ExecuteTime": {
     "end_time": "2024-11-18T13:44:53.296703Z",
     "start_time": "2024-11-18T13:44:53.294340Z"
    }
   },
   "cell_type": "code",
   "source": [
    "command = f\"python train_model.py --config_path ./exper_config.py --exp_name TestConfig \" \\\n",
    "              f\"--density 1 --retrain 1 --rounds 1  --dataset food --eval_set 1\""
   ],
   "id": "3b8c9b7ca708d44e",
   "outputs": [],
   "execution_count": 58
  },
  {
   "metadata": {
    "ExecuteTime": {
     "end_time": "2024-11-18T13:44:53.786094Z",
     "start_time": "2024-11-18T13:44:53.782752Z"
    }
   },
   "cell_type": "code",
   "source": "command",
   "id": "8f33a06034ac2f71",
   "outputs": [
    {
     "data": {
      "text/plain": [
       "'python train_model.py --config_path ./exper_config.py --exp_name TestConfig --density 1 --retrain 1 --rounds 1  --dataset food --eval_set 1'"
      ]
     },
     "execution_count": 59,
     "metadata": {},
     "output_type": "execute_result"
    }
   ],
   "execution_count": 59
  },
  {
   "metadata": {
    "ExecuteTime": {
     "end_time": "2024-11-18T13:46:14.292962Z",
     "start_time": "2024-11-18T13:46:14.289427Z"
    }
   },
   "cell_type": "code",
   "source": [
    "def add_parameter(command: str, params: dict) -> str:\n",
    "    for param_name, param_value in params.items():\n",
    "        command += f\" --{param_name} {param_value}\"\n",
    "    return command\n",
    "\n",
    "# Original string\n",
    "commands = ['python train_model.py --config_path ./exper_config.py --exp_name TestConfig --density 1 --retrain 1 --rounds 1  --dataset food --eval_set 1']\n",
    "\n",
    "# Dictionary with parameters to add\n",
    "params = {'rank': 10}\n"
   ],
   "id": "56b44c7a9eabbd",
   "outputs": [],
   "execution_count": 81
  },
  {
   "metadata": {
    "ExecuteTime": {
     "end_time": "2024-11-18T13:46:15.164677Z",
     "start_time": "2024-11-18T13:46:15.160698Z"
    }
   },
   "cell_type": "code",
   "source": [
    "hyper = {'rank' :10}\n",
    "hyper.keys()"
   ],
   "id": "4407b081d1d04c7e",
   "outputs": [
    {
     "data": {
      "text/plain": [
       "dict_keys(['rank'])"
      ]
     },
     "execution_count": 82,
     "metadata": {},
     "output_type": "execute_result"
    }
   ],
   "execution_count": 82
  },
  {
   "metadata": {
    "ExecuteTime": {
     "end_time": "2024-11-18T13:46:15.513888Z",
     "start_time": "2024-11-18T13:46:15.511761Z"
    }
   },
   "cell_type": "code",
   "source": [
    "if hyper is not None:\n",
    "    commands = [add_parameter(command, hyper) for command in commands]"
   ],
   "id": "21b2dc15fba440cb",
   "outputs": [],
   "execution_count": 83
  },
  {
   "metadata": {
    "ExecuteTime": {
     "end_time": "2024-11-18T13:46:16.855929Z",
     "start_time": "2024-11-18T13:46:16.851768Z"
    }
   },
   "cell_type": "code",
   "source": "commands",
   "id": "1e4b1e88ab267a67",
   "outputs": [
    {
     "data": {
      "text/plain": [
       "['python train_model.py --config_path ./exper_config.py --exp_name TestConfig --density 1 --retrain 1 --rounds 1  --dataset food --eval_set 1 --rank 10']"
      ]
     },
     "execution_count": 84,
     "metadata": {},
     "output_type": "execute_result"
    }
   ],
   "execution_count": 84
  },
  {
   "metadata": {},
   "cell_type": "code",
   "outputs": [],
   "execution_count": null,
   "source": "",
   "id": "3f0f5ff0387ae92"
  }
 ],
 "metadata": {
  "kernelspec": {
   "display_name": "Python 3",
   "language": "python",
   "name": "python3"
  },
  "language_info": {
   "codemirror_mode": {
    "name": "ipython",
    "version": 2
   },
   "file_extension": ".py",
   "mimetype": "text/x-python",
   "name": "python",
   "nbconvert_exporter": "python",
   "pygments_lexer": "ipython2",
   "version": "2.7.6"
  }
 },
 "nbformat": 4,
 "nbformat_minor": 5
}
