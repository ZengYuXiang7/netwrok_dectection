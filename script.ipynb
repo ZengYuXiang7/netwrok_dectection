{
 "cells": [
  {
   "metadata": {
    "ExecuteTime": {
     "end_time": "2025-01-07T08:55:24.371651Z",
     "start_time": "2025-01-07T08:55:24.292662Z"
    }
   },
   "cell_type": "code",
   "source": [
    "import pandas as pd\n",
    "import os\n",
    "datasets_path = os.path.join('./datasets', 'csv', 'IoT')\n",
    "all_files = os.listdir(datasets_path)\n",
    "df = pd.read_csv(os.path.join(datasets_path, all_files[0])).to_numpy()\n",
    "len(df)"
   ],
   "id": "ee9873a53c62c11c",
   "outputs": [
    {
     "data": {
      "text/plain": [
       "190352"
      ]
     },
     "execution_count": 55,
     "metadata": {},
     "output_type": "execute_result"
    }
   ],
   "execution_count": 55
  },
  {
   "metadata": {
    "ExecuteTime": {
     "end_time": "2025-01-07T08:55:27.323641Z",
     "start_time": "2025-01-07T08:55:26.834222Z"
    }
   },
   "cell_type": "code",
   "source": [
    "import datetime\n",
    "for i in range(len(all_files)):\n",
    "    df = pd.read_csv(os.path.join(datasets_path, all_files[i])).to_numpy()\n",
    "    dt_object = datetime.datetime.fromtimestamp(df[0][0])\n",
    "    print(dt_object) "
   ],
   "id": "13871be249809f67",
   "outputs": [
    {
     "name": "stdout",
     "output_type": "stream",
     "text": [
      "2020-12-05 05:09:40.010388\n",
      "2020-12-05 17:09:53.386307\n",
      "2020-12-04 22:55:11.891001\n",
      "2020-11-28 13:09:34.070679\n",
      "2020-12-01 18:35:08.324919\n",
      "2020-11-27 11:51:45.784507\n"
     ]
    }
   ],
   "execution_count": 56
  },
  {
   "metadata": {
    "ExecuteTime": {
     "end_time": "2025-01-07T08:32:19.612335Z",
     "start_time": "2025-01-07T08:32:19.611211Z"
    }
   },
   "cell_type": "code",
   "source": "",
   "id": "31ecbfc6307ca332",
   "outputs": [],
   "execution_count": null
  },
  {
   "metadata": {},
   "cell_type": "code",
   "outputs": [],
   "execution_count": null,
   "source": "",
   "id": "c9cee5782ddcdd71"
  }
 ],
 "metadata": {
  "kernelspec": {
   "display_name": "Python 3",
   "language": "python",
   "name": "python3"
  },
  "language_info": {
   "codemirror_mode": {
    "name": "ipython",
    "version": 2
   },
   "file_extension": ".py",
   "mimetype": "text/x-python",
   "name": "python",
   "nbconvert_exporter": "python",
   "pygments_lexer": "ipython2",
   "version": "2.7.6"
  }
 },
 "nbformat": 4,
 "nbformat_minor": 5
}
